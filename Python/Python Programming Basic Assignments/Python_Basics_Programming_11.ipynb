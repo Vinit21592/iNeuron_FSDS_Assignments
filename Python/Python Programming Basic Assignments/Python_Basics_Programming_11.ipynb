{
 "cells": [
  {
   "cell_type": "markdown",
   "id": "e9bb0587",
   "metadata": {},
   "source": [
    "### 1. Write a Python program to find words which are greater than given length k?"
   ]
  },
  {
   "cell_type": "code",
   "execution_count": 3,
   "id": "453d674c",
   "metadata": {},
   "outputs": [
    {
     "name": "stdout",
     "output_type": "stream",
     "text": [
      "Enter your string: python is very good\n",
      "Enter the length: 3\n",
      "python\n",
      "very\n",
      "good\n"
     ]
    }
   ],
   "source": [
    "def string():\n",
    "    s = input(\"Enter your string: \")\n",
    "    k = int(input(\"Enter the length: \"))\n",
    "    word = s.split(\" \")\n",
    "    for x in word:\n",
    "        if len(x) > k:\n",
    "            print(x)\n",
    "            \n",
    "string()"
   ]
  },
  {
   "cell_type": "markdown",
   "id": "b051d356",
   "metadata": {},
   "source": [
    "### 2. Write a Python program for removing i-th character from a string?"
   ]
  },
  {
   "cell_type": "code",
   "execution_count": 4,
   "id": "5f591a01",
   "metadata": {},
   "outputs": [
    {
     "name": "stdout",
     "output_type": "stream",
     "text": [
      "Enter the string: datascience\n",
      "Enter the index of character to be removed : 4\n",
      "datacience\n"
     ]
    }
   ],
   "source": [
    "def removechar():\n",
    "    mystr = input(\"Enter the string: \")\n",
    "    i = int(input('Enter the index of character to be removed : '))\n",
    "    \n",
    "    string = \"\"\n",
    "    for ele in range(len(mystr)):\n",
    "        if ele!=i:\n",
    "            string = string + mystr[ele]\n",
    "    print(string)\n",
    "    \n",
    "removechar()"
   ]
  },
  {
   "cell_type": "markdown",
   "id": "e307a056",
   "metadata": {},
   "source": [
    "### 3. Write a Python program to split and join a string?"
   ]
  },
  {
   "cell_type": "code",
   "execution_count": 7,
   "id": "cba313a5",
   "metadata": {},
   "outputs": [
    {
     "name": "stdout",
     "output_type": "stream",
     "text": [
      "Enter the string: Full Stack Data Science Bootcamp\n",
      "Split String: ['Full', 'Stack', 'Data', 'Science', 'Bootcamp']\n",
      "Join String: Full Stack Data Science Bootcamp\n"
     ]
    }
   ],
   "source": [
    "def splitJoinString():\n",
    "    in_string = input('Enter the string: ')\n",
    "    print(f\"Split String: {in_string.split(' ')}\")\n",
    "    print(f\"Join String: {' '.join(in_string.split(' '))}\")\n",
    "\n",
    "splitJoinString()"
   ]
  },
  {
   "cell_type": "markdown",
   "id": "098b165a",
   "metadata": {},
   "source": [
    "### 4. Write a Python code to check if a given string is binary string or not?"
   ]
  },
  {
   "cell_type": "code",
   "execution_count": 8,
   "id": "33c82351",
   "metadata": {},
   "outputs": [
    {
     "name": "stdout",
     "output_type": "stream",
     "text": [
      "Enter the string: 4567\n",
      "4567 is not a binart string\n",
      "Enter the string: 101010101\n",
      "101010101 is a binary string\n"
     ]
    }
   ],
   "source": [
    "def checkBinary():\n",
    "    in_string = input('Enter the string: ')\n",
    "    stun = 0\n",
    "    for ele in in_string:\n",
    "        if ele in ['0','1']:\n",
    "            stun = 1\n",
    "            continue\n",
    "        else:\n",
    "            stun = 0\n",
    "            break\n",
    "    statement = 'is a binary string' if stun == 1 else 'is not a binart string' \n",
    "    print(f'{in_string} {statement}')\n",
    "\n",
    "checkBinary()\n",
    "checkBinary()"
   ]
  },
  {
   "cell_type": "markdown",
   "id": "298d33fc",
   "metadata": {},
   "source": [
    "### 5. Write a Python program to find uncommon words from two Strings?"
   ]
  },
  {
   "cell_type": "code",
   "execution_count": 9,
   "id": "9360499f",
   "metadata": {},
   "outputs": [
    {
     "name": "stdout",
     "output_type": "stream",
     "text": [
      "Enter the String 1: Ineuron Full Stack Data Science Course\n",
      "Enter the String 2: Full Stack Data Science Bootcamp\n",
      "{'Ineuron', 'Bootcamp', 'Course'}\n"
     ]
    }
   ],
   "source": [
    "def unCommonWords():\n",
    "    in_string_1 = set(input(\"Enter the String 1: \").split(' '))\n",
    "    in_string_2 = set(input(\"Enter the String 2: \").split(' '))\n",
    "    out_string = (in_string_1.union(in_string_2)).difference(in_string_1.intersection(in_string_2))\n",
    "    print(out_string)\n",
    "\n",
    "unCommonWords()"
   ]
  },
  {
   "cell_type": "markdown",
   "id": "5dd8bd6c",
   "metadata": {},
   "source": [
    "### 6. Write a Python code to find all duplicate characters in string?"
   ]
  },
  {
   "cell_type": "code",
   "execution_count": 10,
   "id": "89399b2e",
   "metadata": {},
   "outputs": [
    {
     "name": "stdout",
     "output_type": "stream",
     "text": [
      "Enter the string: Ineuron Full Stack Data Science Course\n",
      "Duplicate characters are: ['n', 'S', 'a', 'c', 'r', 'o', ' ', 't', 'e', 'l', 'u']\n"
     ]
    }
   ],
   "source": [
    "def duplicateChars():\n",
    "    in_string = input('Enter the string: ')\n",
    "    non_duplicate_list = []\n",
    "    duplicate_list = []\n",
    "    for ele in in_string:\n",
    "        if ele not in non_duplicate_list:\n",
    "            non_duplicate_list.append(ele)\n",
    "        else:\n",
    "            duplicate_list.append(ele)\n",
    "    print(f'Duplicate characters are: {list(set(duplicate_list))}')\n",
    "        \n",
    "duplicateChars()"
   ]
  },
  {
   "cell_type": "markdown",
   "id": "158c0792",
   "metadata": {},
   "source": [
    "### 7. Write a Python Program to check if a string contains any special character?"
   ]
  },
  {
   "cell_type": "code",
   "execution_count": 11,
   "id": "9c9d834a",
   "metadata": {},
   "outputs": [],
   "source": [
    "def checkSpecialChar():\n",
    "    spl_chars = '[@_!#$%^&*()<>?/\\|}{~:]'\n",
    "    in_num = input('Enter the string: ')\n",
    "    count = 0\n",
    "    char_list = []\n",
    "    for ele in in_num:\n",
    "        if ele in spl_chars:\n",
    "            char_list.append(ele)\n",
    "            count = count+1\n",
    "    print(f'There are {count} Speical Characters in {in_num} which are {char_list}')"
   ]
  },
  {
   "cell_type": "code",
   "execution_count": 13,
   "id": "29959b1d",
   "metadata": {},
   "outputs": [
    {
     "name": "stdout",
     "output_type": "stream",
     "text": [
      "Enter the string: ineuron@ai & fullstack@datascience.com/1234\n",
      "There are 4 Speical Characters in ineuron@ai & fullstack@datascience.com/1234 which are ['@', '&', '@', '/']\n"
     ]
    }
   ],
   "source": [
    "checkSpecialChar()"
   ]
  }
 ],
 "metadata": {
  "kernelspec": {
   "display_name": "Python 3 (ipykernel)",
   "language": "python",
   "name": "python3"
  },
  "language_info": {
   "codemirror_mode": {
    "name": "ipython",
    "version": 3
   },
   "file_extension": ".py",
   "mimetype": "text/x-python",
   "name": "python",
   "nbconvert_exporter": "python",
   "pygments_lexer": "ipython3",
   "version": "3.9.7"
  }
 },
 "nbformat": 4,
 "nbformat_minor": 5
}
