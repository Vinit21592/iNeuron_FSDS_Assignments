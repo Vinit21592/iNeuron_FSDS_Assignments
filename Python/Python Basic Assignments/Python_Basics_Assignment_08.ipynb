{
 "cells": [
  {
   "cell_type": "markdown",
   "id": "daff0f65",
   "metadata": {},
   "source": [
    "### 1. Is the Python Standard Library included with PyInputPlus?"
   ]
  },
  {
   "cell_type": "markdown",
   "id": "a601ba03",
   "metadata": {},
   "source": [
    "PyInputPlus is not a part of the Python Standard Library and needs to be installed using `pip install PyInputPlus`"
   ]
  },
  {
   "cell_type": "markdown",
   "id": "2c13e783",
   "metadata": {},
   "source": [
    "### 2. Why is PyInputPlus commonly imported with import pyinputplus as pyip?"
   ]
  },
  {
   "cell_type": "markdown",
   "id": "413f571e",
   "metadata": {},
   "source": [
    "You can import the module with import pyinputplus as **pyip** so that you can enter a shorter name when calling the module’s functions."
   ]
  },
  {
   "cell_type": "markdown",
   "id": "11a659ad",
   "metadata": {},
   "source": [
    "### 3. How do you distinguish between inputInt() and inputFloat()?"
   ]
  },
  {
   "cell_type": "markdown",
   "id": "b4e1b214",
   "metadata": {},
   "source": [
    "`inputInt()` : Accepts an integer value. This also takes additional parameters 'min', 'max', 'greaterThan' and 'lessThan' for bounds. Returns an int.\n",
    "\n",
    "`inputFloat()` : Accepts a floating-point numeric value. Also takes additional 'min', 'max', 'greaterThan' and 'lessThan'  parameters. Returns a float."
   ]
  },
  {
   "cell_type": "markdown",
   "id": "977e0321",
   "metadata": {},
   "source": [
    "### 4. Using PyInputPlus, how do you ensure that the user enters a whole number between 0 and 99?"
   ]
  },
  {
   "cell_type": "markdown",
   "id": "dbaf7a12",
   "metadata": {},
   "source": [
    "By using `pyip.inputint(min=0, max=99)`"
   ]
  },
  {
   "cell_type": "markdown",
   "id": "1d50ad0a",
   "metadata": {},
   "source": [
    "### 5. What is transferred to the keyword arguments allowRegexes and blockRegexes?"
   ]
  },
  {
   "cell_type": "markdown",
   "id": "72ca4cd9",
   "metadata": {},
   "source": [
    "A list of regular expression strings that are either explicitly allowed or denied."
   ]
  },
  {
   "cell_type": "markdown",
   "id": "40775c32",
   "metadata": {},
   "source": [
    "### 6. If a blank input is entered three times, what does inputStr(limit=3) do?"
   ]
  },
  {
   "cell_type": "markdown",
   "id": "949ec465",
   "metadata": {},
   "source": [
    "It will throw two exceptions `RetryLimitException` & `ValidationException`. RetryLimitException because of reaching maximum limit for accepting input. After that it tries to look for default and blank, blank is set to False by default so it tries to set None value with causes ValidationException.\n",
    "\n",
    "To avoid exception a default value must be set and blank is set to False"
   ]
  },
  {
   "cell_type": "markdown",
   "id": "14be7939",
   "metadata": {},
   "source": [
    "### 7. If blank input is entered three times, what does inputStr(limit=3, default=&#39;hello&#39;) do?"
   ]
  },
  {
   "cell_type": "markdown",
   "id": "f54f2df7",
   "metadata": {},
   "source": [
    "Since the default parameter is set to `'hello'`,after blank inputs, instead of raising `RetryLimitException` exception, the function will return hello in response."
   ]
  }
 ],
 "metadata": {
  "kernelspec": {
   "display_name": "Python 3 (ipykernel)",
   "language": "python",
   "name": "python3"
  },
  "language_info": {
   "codemirror_mode": {
    "name": "ipython",
    "version": 3
   },
   "file_extension": ".py",
   "mimetype": "text/x-python",
   "name": "python",
   "nbconvert_exporter": "python",
   "pygments_lexer": "ipython3",
   "version": "3.9.7"
  }
 },
 "nbformat": 4,
 "nbformat_minor": 5
}
