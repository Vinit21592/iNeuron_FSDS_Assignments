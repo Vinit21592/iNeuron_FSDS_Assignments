{
 "cells": [
  {
   "cell_type": "markdown",
   "id": "83eb975c",
   "metadata": {},
   "source": [
    "### 1. Write a Python Program to Display Fibonacci Sequence Using Recursion?"
   ]
  },
  {
   "cell_type": "code",
   "execution_count": 1,
   "id": "0d100746",
   "metadata": {},
   "outputs": [
    {
     "name": "stdout",
     "output_type": "stream",
     "text": [
      "Enter the number of terms: 10\n",
      "Fibonacci Sequence: \n",
      "0\n",
      "1\n",
      "1\n",
      "2\n",
      "3\n",
      "5\n",
      "8\n",
      "13\n",
      "21\n",
      "34\n"
     ]
    }
   ],
   "source": [
    "def fibo_recursion(n):\n",
    "    if (n<=1):\n",
    "        return n\n",
    "    else:\n",
    "        return (fibo_recursion(n-1) + fibo_recursion(n-2))\n",
    "    \n",
    "n = int(input(\"Enter the number of terms: \"))\n",
    "print(\"Fibonacci Sequence: \")\n",
    "for i in range(n):\n",
    "    print(fibo_recursion(i))"
   ]
  },
  {
   "cell_type": "markdown",
   "id": "c35e0961",
   "metadata": {},
   "source": [
    "### 2. Write a Python Program to Find Factorial of Number Using Recursion?"
   ]
  },
  {
   "cell_type": "code",
   "execution_count": 3,
   "id": "621ce7ad",
   "metadata": {},
   "outputs": [
    {
     "name": "stdout",
     "output_type": "stream",
     "text": [
      "Enter a number: 5\n",
      "The factorial of 5 is 120\n"
     ]
    }
   ],
   "source": [
    "def rec_fact(n):\n",
    "    if n == 1:\n",
    "        return n\n",
    "    else:\n",
    "        return n*rec_fact(n-1)\n",
    "        \n",
    "num = int(input(\"Enter a number: \"))\n",
    "print(\"The factorial of\",num,\"is\",rec_fact(num))"
   ]
  },
  {
   "cell_type": "markdown",
   "id": "4cb90748",
   "metadata": {},
   "source": [
    "### 3. Write a Python Program to calculate your Body Mass Index?"
   ]
  },
  {
   "cell_type": "code",
   "execution_count": 4,
   "id": "937a798e",
   "metadata": {},
   "outputs": [
    {
     "name": "stdout",
     "output_type": "stream",
     "text": [
      "Enter weight(kgs): 70\n",
      "Enter height(mts): 1.79\n",
      "The BMI is 21.847008520333322\n"
     ]
    }
   ],
   "source": [
    "def BMI(weight,height):\n",
    "    bmi = weight/(height**2)\n",
    "    return bmi\n",
    "\n",
    "weight = float(input(\"Enter weight(kgs): \"))\n",
    "height = float(input(\"Enter height(mts): \"))\n",
    "print(\"The BMI is\",BMI(weight,height))"
   ]
  },
  {
   "cell_type": "markdown",
   "id": "984e2059",
   "metadata": {},
   "source": [
    "### 4. Write a Python Program to calculate the natural logarithm of any number?"
   ]
  },
  {
   "cell_type": "code",
   "execution_count": 5,
   "id": "8e7c8f21",
   "metadata": {},
   "outputs": [
    {
     "name": "stdout",
     "output_type": "stream",
     "text": [
      "Enter a number: 32\n"
     ]
    },
    {
     "data": {
      "text/plain": [
       "3.4657359027997265"
      ]
     },
     "execution_count": 5,
     "metadata": {},
     "output_type": "execute_result"
    }
   ],
   "source": [
    "import math\n",
    "def natural_log(num):\n",
    "    return math.log(num)\n",
    "\n",
    "num = float(input(\"Enter a number: \"))\n",
    "log = natural_log(num)\n",
    "log"
   ]
  },
  {
   "cell_type": "markdown",
   "id": "ccafc4a0",
   "metadata": {},
   "source": [
    "### 5. Write a Python Program for cube sum of first n natural numbers?"
   ]
  },
  {
   "cell_type": "code",
   "execution_count": 12,
   "id": "cad1b938",
   "metadata": {},
   "outputs": [
    {
     "name": "stdout",
     "output_type": "stream",
     "text": [
      "Enter a number: 5\n",
      "Sum of cubes of first 5 natural numbers:  225.0\n"
     ]
    }
   ],
   "source": [
    "def cubesum(n):\n",
    "    return (n*(n+1)/2)**2\n",
    "\n",
    "num = int(input(\"Enter a number: \"))\n",
    "print(\"Sum of cubes of first {} natural numbers: \".format(num),cubesum(num))"
   ]
  }
 ],
 "metadata": {
  "kernelspec": {
   "display_name": "Python 3 (ipykernel)",
   "language": "python",
   "name": "python3"
  },
  "language_info": {
   "codemirror_mode": {
    "name": "ipython",
    "version": 3
   },
   "file_extension": ".py",
   "mimetype": "text/x-python",
   "name": "python",
   "nbconvert_exporter": "python",
   "pygments_lexer": "ipython3",
   "version": "3.9.7"
  }
 },
 "nbformat": 4,
 "nbformat_minor": 5
}
