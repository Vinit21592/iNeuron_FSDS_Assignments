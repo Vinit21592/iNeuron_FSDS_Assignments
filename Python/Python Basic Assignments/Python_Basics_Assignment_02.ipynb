{
 "cells": [
  {
   "cell_type": "markdown",
   "id": "825899be",
   "metadata": {},
   "source": [
    "### 1.What are the two values of the Boolean data type? How do you write them?"
   ]
  },
  {
   "cell_type": "markdown",
   "id": "d5fbc07b",
   "metadata": {},
   "source": [
    "**True** and **False** are the two values of the boolean data type\n",
    "\n",
    "In order to write them we can see following example:"
   ]
  },
  {
   "cell_type": "code",
   "execution_count": 1,
   "id": "fbdc1ef7",
   "metadata": {},
   "outputs": [
    {
     "name": "stdout",
     "output_type": "stream",
     "text": [
      "True <class 'bool'>\n",
      "False <class 'bool'>\n"
     ]
    }
   ],
   "source": [
    "a = True\n",
    "b = False\n",
    "print(a,type(a))\n",
    "print(b,type(b))"
   ]
  },
  {
   "cell_type": "markdown",
   "id": "8d471f15",
   "metadata": {},
   "source": [
    "### 2. What are the three different types of Boolean operators?"
   ]
  },
  {
   "cell_type": "markdown",
   "id": "cec4a9af",
   "metadata": {},
   "source": [
    "The three types of boolean operators are AND, OR, NOT"
   ]
  },
  {
   "cell_type": "code",
   "execution_count": 2,
   "id": "1b5b03e9",
   "metadata": {},
   "outputs": [
    {
     "name": "stdout",
     "output_type": "stream",
     "text": [
      "True\n",
      "True\n",
      "False\n"
     ]
    }
   ],
   "source": [
    "a = 80\n",
    "b = 70\n",
    "print(a>50 and b>60)\n",
    "print(a>100 or b>50)\n",
    "print(not(b>60))"
   ]
  },
  {
   "cell_type": "markdown",
   "id": "a375e22a",
   "metadata": {},
   "source": [
    "### 3. Make a list of each Boolean operator&#39;s truth tables (i.e. every possible combination of Boolean values for the operator and what it evaluate )."
   ]
  },
  {
   "cell_type": "markdown",
   "id": "99e12c68",
   "metadata": {},
   "source": [
    "* **Truth table for AND operator**\n",
    " - True and True is True\n",
    " - True and False is False\n",
    " - False and True is False\n",
    " - False and False is False"
   ]
  },
  {
   "cell_type": "markdown",
   "id": "a247483a",
   "metadata": {},
   "source": [
    "* **Truth table for OR operator**\n",
    " - True or True is True\n",
    " - True or False is True\n",
    " - False or True is True\n",
    " - False or False is False"
   ]
  },
  {
   "cell_type": "markdown",
   "id": "0f8ef7bd",
   "metadata": {},
   "source": [
    "* **Truth table for NOT operator**\n",
    " - not of True is False\n",
    " - not of False is True"
   ]
  },
  {
   "cell_type": "markdown",
   "id": "e85f7f12",
   "metadata": {},
   "source": [
    "### 4. What are the values of the following expressions?\n",
    "- (5 &gt; 4) and (3 == 5)\n",
    "- not (5 &gt; 4)\n",
    "- (5 &gt; 4) or (3 == 5)\n",
    "- not ((5 &gt; 4) or (3 == 5))\n",
    "- (True and True) and (True == False)\n",
    "- (not False) or (not True)"
   ]
  },
  {
   "cell_type": "code",
   "execution_count": 8,
   "id": "2e43af3d",
   "metadata": {},
   "outputs": [
    {
     "name": "stdout",
     "output_type": "stream",
     "text": [
      "False\n",
      "False\n",
      "True\n",
      "False\n",
      "False\n",
      "True\n"
     ]
    }
   ],
   "source": [
    "print((5 > 4) and (3 == 5))\n",
    "print(not (5 > 4))\n",
    "print((5 > 4) or (3 == 5))\n",
    "print(not ((5 > 4) or (3 == 5)))\n",
    "print((True and True) and (True == False))\n",
    "print((not False) or (not True))"
   ]
  },
  {
   "cell_type": "markdown",
   "id": "8f739737",
   "metadata": {},
   "source": [
    "### 5. What are the six comparison operators?"
   ]
  },
  {
   "cell_type": "markdown",
   "id": "faa2fc0e",
   "metadata": {},
   "source": [
    "The Six comparison operators in python are:\n",
    "\n",
    "==(equal to) , !=(not equal to) , <(less than) , >(greater than) , <=(less than or equal to) , >=(greater than or equal to)"
   ]
  },
  {
   "cell_type": "markdown",
   "id": "705384a6",
   "metadata": {},
   "source": [
    "### 6. How do you tell the difference between the equal to and assignment operators?Describe a condition and when you would use one."
   ]
  },
  {
   "cell_type": "markdown",
   "id": "a5b23c56",
   "metadata": {},
   "source": [
    "= is an assignment operator that assigns a value to a variable and == is an equal to operator which compares the value and returns 1 if they are equal or else will return 0."
   ]
  },
  {
   "cell_type": "code",
   "execution_count": 10,
   "id": "ad1642ff",
   "metadata": {},
   "outputs": [
    {
     "name": "stdout",
     "output_type": "stream",
     "text": [
      "True\n"
     ]
    }
   ],
   "source": [
    "a = 5\n",
    "if a==5:\n",
    "    print(a==5)"
   ]
  },
  {
   "cell_type": "markdown",
   "id": "ded2c616",
   "metadata": {},
   "source": [
    "### 7. Identify the three blocks in this code:\n",
    "spam = 0\n",
    "\n",
    "if spam == 10:\n",
    "\n",
    "print(&#39;eggs&#39;)\n",
    "\n",
    "if spam &gt; 5:\n",
    "\n",
    "print(&#39;bacon&#39;)\n",
    "\n",
    "else:\n",
    "\n",
    "print(&#39;ham&#39;)\n",
    "\n",
    "print(&#39;spam&#39;)\n",
    "\n",
    "print(&#39;spam&#39;)"
   ]
  },
  {
   "cell_type": "code",
   "execution_count": 14,
   "id": "e0c799ff",
   "metadata": {},
   "outputs": [
    {
     "name": "stdout",
     "output_type": "stream",
     "text": [
      "ham\n",
      "spam\n",
      "spam\n"
     ]
    }
   ],
   "source": [
    "spam = 0\n",
    "if spam == 10:\n",
    "    print('eggs') # block_1\n",
    "if spam > 5:\n",
    "    print('bacon') # block_2\n",
    "else:\n",
    "    print('ham') # block_3\n",
    "    print('spam')\n",
    "    print('spam')"
   ]
  },
  {
   "cell_type": "markdown",
   "id": "9491aafe",
   "metadata": {},
   "source": [
    "### 8. Write code that prints Hello if 1 is stored in spam, prints Howdy if 2 is stored in spam, and prints Greetings! if anything else is stored in spam."
   ]
  },
  {
   "cell_type": "code",
   "execution_count": 30,
   "id": "938232f3",
   "metadata": {},
   "outputs": [],
   "source": [
    "def spamtest(spam):\n",
    "    if spam==1:\n",
    "        print(\"Hello\")\n",
    "    elif spam==2:\n",
    "        print(\"Howdy\")\n",
    "    else:\n",
    "        print(\"Greetings\")"
   ]
  },
  {
   "cell_type": "code",
   "execution_count": 31,
   "id": "305decad",
   "metadata": {},
   "outputs": [
    {
     "name": "stdout",
     "output_type": "stream",
     "text": [
      "Hello\n",
      "Howdy\n",
      "Greetings\n"
     ]
    }
   ],
   "source": [
    "spamtest(1)\n",
    "spamtest(2)\n",
    "spamtest(3)"
   ]
  },
  {
   "cell_type": "markdown",
   "id": "8b6ac11e",
   "metadata": {},
   "source": [
    "### 9.If your programme is stuck in an endless loop, what keys you’ll press?"
   ]
  },
  {
   "cell_type": "markdown",
   "id": "426eeca0",
   "metadata": {},
   "source": [
    "To exit out of endless loop press **CTRL + C**"
   ]
  },
  {
   "cell_type": "markdown",
   "id": "8358401a",
   "metadata": {},
   "source": [
    "### 10. How can you tell the difference between break and continue?"
   ]
  },
  {
   "cell_type": "markdown",
   "id": "72a304ef",
   "metadata": {},
   "source": [
    "The break statement will move the execution outside the loop if break condtion is satisfied whereas the continue statement will move the execution to the start of the loop."
   ]
  },
  {
   "cell_type": "markdown",
   "id": "fce68efe",
   "metadata": {},
   "source": [
    "### 11. In a for loop, what is the difference between range(10), range(0, 10), and range(0, 10, 1)?"
   ]
  },
  {
   "cell_type": "code",
   "execution_count": 32,
   "id": "d1ebec96",
   "metadata": {},
   "outputs": [
    {
     "data": {
      "text/plain": [
       "[0, 1, 2, 3, 4, 5, 6, 7, 8, 9]"
      ]
     },
     "execution_count": 32,
     "metadata": {},
     "output_type": "execute_result"
    }
   ],
   "source": [
    "list(range(10))"
   ]
  },
  {
   "cell_type": "code",
   "execution_count": 33,
   "id": "14869082",
   "metadata": {},
   "outputs": [
    {
     "data": {
      "text/plain": [
       "[0, 1, 2, 3, 4, 5, 6, 7, 8, 9]"
      ]
     },
     "execution_count": 33,
     "metadata": {},
     "output_type": "execute_result"
    }
   ],
   "source": [
    "list(range(0,10))"
   ]
  },
  {
   "cell_type": "code",
   "execution_count": 34,
   "id": "0e3d94a9",
   "metadata": {},
   "outputs": [
    {
     "data": {
      "text/plain": [
       "[0, 1, 2, 3, 4, 5, 6, 7, 8, 9]"
      ]
     },
     "execution_count": 34,
     "metadata": {},
     "output_type": "execute_result"
    }
   ],
   "source": [
    "list(range(0,10,1))"
   ]
  },
  {
   "cell_type": "code",
   "execution_count": 35,
   "id": "b6ae16bf",
   "metadata": {},
   "outputs": [
    {
     "data": {
      "text/plain": [
       "range(0, 10)"
      ]
     },
     "execution_count": 35,
     "metadata": {},
     "output_type": "execute_result"
    }
   ],
   "source": [
    "range(10)"
   ]
  },
  {
   "cell_type": "code",
   "execution_count": 36,
   "id": "bec0e8f0",
   "metadata": {},
   "outputs": [
    {
     "data": {
      "text/plain": [
       "range(0, 10)"
      ]
     },
     "execution_count": 36,
     "metadata": {},
     "output_type": "execute_result"
    }
   ],
   "source": [
    "range(0,10)"
   ]
  },
  {
   "cell_type": "code",
   "execution_count": 37,
   "id": "468691e9",
   "metadata": {},
   "outputs": [
    {
     "data": {
      "text/plain": [
       "range(0, 10)"
      ]
     },
     "execution_count": 37,
     "metadata": {},
     "output_type": "execute_result"
    }
   ],
   "source": [
    "range(0,10,1)"
   ]
  },
  {
   "cell_type": "markdown",
   "id": "0ec0b197",
   "metadata": {},
   "source": [
    "As we can see there is no difference in the above 3"
   ]
  },
  {
   "cell_type": "markdown",
   "id": "23518bd5",
   "metadata": {},
   "source": [
    "### 12. Write a short program that prints the numbers 1 to 10 using a for loop. Then write an equivalent program that prints the numbers 1 to 10 using a while loop."
   ]
  },
  {
   "cell_type": "code",
   "execution_count": 41,
   "id": "938f71b2",
   "metadata": {},
   "outputs": [
    {
     "name": "stdout",
     "output_type": "stream",
     "text": [
      "1 2 3 4 5 6 7 8 9 10 "
     ]
    }
   ],
   "source": [
    "# Using For loop\n",
    "for i in range(1,11):\n",
    "    print(i,end = ' ')"
   ]
  },
  {
   "cell_type": "code",
   "execution_count": 46,
   "id": "f5b59f56",
   "metadata": {},
   "outputs": [
    {
     "name": "stdout",
     "output_type": "stream",
     "text": [
      "1 2 3 4 5 6 7 8 9 10 "
     ]
    }
   ],
   "source": [
    "# Using While loop\n",
    "i = 1\n",
    "while i<=10:\n",
    "    print(i,end = ' ')\n",
    "    i = i + 1"
   ]
  },
  {
   "cell_type": "markdown",
   "id": "c35a8eb6",
   "metadata": {},
   "source": [
    "### 13. If you had a function named bacon() inside a module named spam, how would you call it after importing spam?"
   ]
  },
  {
   "cell_type": "markdown",
   "id": "3b560165",
   "metadata": {},
   "source": [
    "The function can be called by ***spam.bacon()***"
   ]
  },
  {
   "cell_type": "code",
   "execution_count": null,
   "id": "5c3379ee",
   "metadata": {},
   "outputs": [],
   "source": []
  }
 ],
 "metadata": {
  "kernelspec": {
   "display_name": "Python 3 (ipykernel)",
   "language": "python",
   "name": "python3"
  },
  "language_info": {
   "codemirror_mode": {
    "name": "ipython",
    "version": 3
   },
   "file_extension": ".py",
   "mimetype": "text/x-python",
   "name": "python",
   "nbconvert_exporter": "python",
   "pygments_lexer": "ipython3",
   "version": "3.9.7"
  }
 },
 "nbformat": 4,
 "nbformat_minor": 5
}
