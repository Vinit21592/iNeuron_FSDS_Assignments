{
 "cells": [
  {
   "cell_type": "markdown",
   "id": "0a51f1d6",
   "metadata": {},
   "source": [
    "### 1. Write a Python Program to Find LCM?"
   ]
  },
  {
   "cell_type": "code",
   "execution_count": 3,
   "id": "d8991f01",
   "metadata": {},
   "outputs": [],
   "source": [
    "def lcm(x,y):\n",
    "    if x > y:\n",
    "        z = x\n",
    "    else:\n",
    "        z = y\n",
    "    while True:\n",
    "        if ((z%x==0) and (z%y==0)):\n",
    "            lcm = z\n",
    "            break\n",
    "        z+=1\n",
    "    print(\"The lcm of {},{} is {}\".format(x,y,lcm))"
   ]
  },
  {
   "cell_type": "code",
   "execution_count": 4,
   "id": "a9be24d6",
   "metadata": {},
   "outputs": [
    {
     "name": "stdout",
     "output_type": "stream",
     "text": [
      "The lcm of 20,15 is 60\n"
     ]
    }
   ],
   "source": [
    "lcm(20,15)"
   ]
  },
  {
   "cell_type": "code",
   "execution_count": 5,
   "id": "27edbadf",
   "metadata": {},
   "outputs": [
    {
     "name": "stdout",
     "output_type": "stream",
     "text": [
      "The lcm of 15,17 is 255\n"
     ]
    }
   ],
   "source": [
    "lcm(15,17)"
   ]
  },
  {
   "cell_type": "markdown",
   "id": "0050ac84",
   "metadata": {},
   "source": [
    "### 2. Write a Python Program to Find HCF?"
   ]
  },
  {
   "cell_type": "code",
   "execution_count": 1,
   "id": "9c0f7d58",
   "metadata": {},
   "outputs": [],
   "source": [
    "def hcf(x,y):\n",
    "    if x > y:\n",
    "        z = x\n",
    "    else:\n",
    "        z = y\n",
    "    for i in range(1,z+1):\n",
    "        if ((x%i==0) and (y%i==0)):\n",
    "            hcf = i\n",
    "    print(f'The HCF of {x},{y} is {hcf}')"
   ]
  },
  {
   "cell_type": "code",
   "execution_count": 2,
   "id": "8b261651",
   "metadata": {},
   "outputs": [
    {
     "name": "stdout",
     "output_type": "stream",
     "text": [
      "The HCF of 20,15 is 5\n"
     ]
    }
   ],
   "source": [
    "hcf(20,15)"
   ]
  },
  {
   "cell_type": "code",
   "execution_count": 3,
   "id": "6dec477f",
   "metadata": {},
   "outputs": [
    {
     "name": "stdout",
     "output_type": "stream",
     "text": [
      "The HCF of 6,12 is 6\n"
     ]
    }
   ],
   "source": [
    "hcf(6,12)"
   ]
  },
  {
   "cell_type": "code",
   "execution_count": 4,
   "id": "b3bd8982",
   "metadata": {},
   "outputs": [
    {
     "name": "stdout",
     "output_type": "stream",
     "text": [
      "The HCF of 12,18 is 6\n"
     ]
    }
   ],
   "source": [
    "hcf(12,18)"
   ]
  },
  {
   "cell_type": "code",
   "execution_count": 5,
   "id": "9cf311e6",
   "metadata": {},
   "outputs": [
    {
     "name": "stdout",
     "output_type": "stream",
     "text": [
      "The HCF of 50,100 is 50\n"
     ]
    }
   ],
   "source": [
    "hcf(50,100)"
   ]
  },
  {
   "cell_type": "markdown",
   "id": "8f4d7c2d",
   "metadata": {},
   "source": [
    "### 3. Write a Python Program to Convert Decimal to Binary, Octal and Hexadecimal?"
   ]
  },
  {
   "cell_type": "code",
   "execution_count": 6,
   "id": "1c850df1",
   "metadata": {},
   "outputs": [
    {
     "name": "stdout",
     "output_type": "stream",
     "text": [
      "Enter the number: 344\n",
      "Binary is 0b101011000\n",
      "Octal is 0o530\n",
      "Hexadecimal is 0x158\n"
     ]
    }
   ],
   "source": [
    "num = int(input(\"Enter the number: \"))\n",
    "\n",
    "print(\"Binary is\",bin(num))\n",
    "print(\"Octal is\",oct(num))\n",
    "print(\"Hexadecimal is\",hex(num))"
   ]
  },
  {
   "cell_type": "markdown",
   "id": "37d8d3ef",
   "metadata": {},
   "source": [
    "### 4. Write a Python Program To Find ASCII value of a character?"
   ]
  },
  {
   "cell_type": "code",
   "execution_count": 13,
   "id": "322a86bc",
   "metadata": {},
   "outputs": [
    {
     "name": "stdout",
     "output_type": "stream",
     "text": [
      "Enter a character: g\n",
      "The Ascii value of g is 103\n"
     ]
    }
   ],
   "source": [
    "char = input(\"Enter a character: \")\n",
    "print(f'The Ascii value of {char} is {ord(char)}')"
   ]
  },
  {
   "cell_type": "markdown",
   "id": "4088c0d1",
   "metadata": {},
   "source": [
    "### 5. Write a Python Program to Make a Simple Calculator with 4 basic mathematical operations?"
   ]
  },
  {
   "cell_type": "code",
   "execution_count": 22,
   "id": "35b26795",
   "metadata": {},
   "outputs": [
    {
     "name": "stdout",
     "output_type": "stream",
     "text": [
      "Please select the operation.\n",
      "1.Add\n",
      "2.Subtract\n",
      "3.Multiply\n",
      "4.Divide\n",
      "Please select the operation (1/2/3/4): 4\n",
      "Enter the first number: 7\n",
      "Enter the second number: 8\n",
      "7 / 8 = 0.875\n"
     ]
    }
   ],
   "source": [
    "def add(a,b):\n",
    "    return a + b\n",
    "\n",
    "def subtract(a,b):\n",
    "    return a - b\n",
    "\n",
    "def multiply(a,b):\n",
    "    return a * b\n",
    "\n",
    "def divide(a,b):\n",
    "    return a / b\n",
    "\n",
    "print(\"Please select the operation.\")\n",
    "print(\"1.Add\")\n",
    "print(\"2.Subtract\")\n",
    "print(\"3.Multiply\")\n",
    "print(\"4.Divide\")\n",
    "\n",
    "choice = input(\"Please select the operation (1/2/3/4): \")\n",
    "\n",
    "num1 = int(input(\"Enter the first number: \"))\n",
    "num2 = int(input(\"Enter the second number: \"))\n",
    "\n",
    "if choice == '1':\n",
    "    print(num1,'+',num2,'=',add(num1,num2))\n",
    "elif choice == '2':\n",
    "    print(num1,'-',num2,'=',subtract(num1,num2))\n",
    "elif choice == '3':\n",
    "    print(num1,'*',num2,'=',multiply(num1,num2))\n",
    "elif choice == '4':\n",
    "    print(num1,'/',num2,'=',divide(num1,num2))\n",
    "else:\n",
    "    print(\"Invalid Input\")"
   ]
  }
 ],
 "metadata": {
  "kernelspec": {
   "display_name": "Python 3 (ipykernel)",
   "language": "python",
   "name": "python3"
  },
  "language_info": {
   "codemirror_mode": {
    "name": "ipython",
    "version": 3
   },
   "file_extension": ".py",
   "mimetype": "text/x-python",
   "name": "python",
   "nbconvert_exporter": "python",
   "pygments_lexer": "ipython3",
   "version": "3.9.7"
  }
 },
 "nbformat": 4,
 "nbformat_minor": 5
}
