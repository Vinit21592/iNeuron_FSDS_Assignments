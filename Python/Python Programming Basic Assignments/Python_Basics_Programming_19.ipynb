{
 "cells": [
  {
   "cell_type": "markdown",
   "id": "2f81f9dd",
   "metadata": {},
   "source": [
    "### Question1 Create a function that takes a string and returns a string in which each character is repeated once.\n",
    "Examples\n",
    "\n",
    "double_char(&quot;String&quot;) ➞ &quot;SSttrriinngg&quot;\n",
    "\n",
    "double_char(&quot;Hello World!&quot;) ➞ &quot;HHeelllloo WWoorrlldd!!&quot;\n",
    "\n",
    "double_char(&quot;1234!_ &quot;) ➞ &quot;11223344!!__ &quot;"
   ]
  },
  {
   "cell_type": "code",
   "execution_count": 1,
   "id": "0cc70669",
   "metadata": {},
   "outputs": [
    {
     "name": "stdout",
     "output_type": "stream",
     "text": [
      "➞ SSttrriinngg\n",
      "➞ HHeelllloo  WWoorrlldd!!\n",
      "➞ 11223344!!__\n"
     ]
    }
   ],
   "source": [
    "def double_char(in_string):\n",
    "    out_string = ''\n",
    "    for ele in in_string:\n",
    "        out_string += ele*2\n",
    "    return out_string\n",
    "\n",
    "print(f'➞ {double_char(\"String\")}')\n",
    "print(f'➞ {double_char(\"Hello World!\")}')\n",
    "print(f'➞ {double_char(\"1234!_\")}')"
   ]
  },
  {
   "cell_type": "markdown",
   "id": "c6f4de56",
   "metadata": {},
   "source": [
    "### Question2 Create a function that reverses a boolean value and returns the string &quot;boolean expected&quot; if another variable type is given.\n",
    "Examples\n",
    "\n",
    "reverse(True) ➞ False\n",
    "\n",
    "reverse(False) ➞ True\n",
    "\n",
    "reverse(0) ➞ &quot;boolean expected&quot;\n",
    "\n",
    "reverse(None) ➞ &quot;boolean expected&quot;"
   ]
  },
  {
   "cell_type": "code",
   "execution_count": 2,
   "id": "73f5d3a9",
   "metadata": {},
   "outputs": [
    {
     "name": "stdout",
     "output_type": "stream",
     "text": [
      "reverse(True) ➞ False\n",
      "reverse(False) ➞ True\n",
      "reverse(0) ➞ Boolean Expected\n",
      "reverse(None) ➞ Boolean Expected\n"
     ]
    }
   ],
   "source": [
    "def reverse(in_bool):\n",
    "    if type(in_bool) == bool:\n",
    "        return not in_bool\n",
    "    else:\n",
    "        return \"Boolean Expected\"\n",
    "\n",
    "print(f'reverse(True) ➞ {reverse(True)}')\n",
    "print(f'reverse(False) ➞ {reverse(False)}')\n",
    "print(f'reverse(0) ➞ {reverse(0)}')\n",
    "print(f'reverse(None) ➞ {reverse(None)}')"
   ]
  },
  {
   "cell_type": "markdown",
   "id": "c0d1fa8b",
   "metadata": {},
   "source": [
    "### Question3 Create a function that returns the thickness (in meters) of a piece of paper after folding it n number of times. The paper starts off with a thickness of 0.5mm.\n",
    "Examples\n",
    "\n",
    "num_layers(1) ➞ &quot;0.001m&quot;\n",
    "#### Paper folded once is 1mm (equal to 0.001m)\n",
    "num_layers(4) ➞ &quot;0.008m&quot;\n",
    "#### Paper folded 4 times is 8mm (equal to 0.008m)\n",
    "num_layers(21) ➞ &quot;1048.576m&quot;\n",
    "#### Paper folded 21 times is 1048576mm (equal to 1048.576m)"
   ]
  },
  {
   "cell_type": "code",
   "execution_count": 3,
   "id": "23344709",
   "metadata": {},
   "outputs": [
    {
     "name": "stdout",
     "output_type": "stream",
     "text": [
      "Output ➞ 0.001m\n",
      "Output ➞ 0.008m\n",
      "Output ➞ 1048.576m\n"
     ]
    }
   ],
   "source": [
    "def num_layers(in_num):\n",
    "    out_num = 0.5\n",
    "    for ele in range(in_num):\n",
    "        out_num *= 2\n",
    "    print(f'Output ➞ {out_num/1000}m')\n",
    "    \n",
    "num_layers(1)\n",
    "num_layers(4)\n",
    "num_layers(21)"
   ]
  },
  {
   "cell_type": "markdown",
   "id": "856d1a87",
   "metadata": {},
   "source": [
    "### Question4 Create a function that takes a single string as argument and returns an ordered list containing the indices of all capital letters in the string.\n",
    "Examples\n",
    "\n",
    "index_of_caps(&quot;eDaBiT&quot;) ➞ [1, 3, 5]\n",
    "\n",
    "index_of_caps(&quot;eQuINoX&quot;) ➞ [1, 3, 4, 6]\n",
    "\n",
    "index_of_caps(&quot;determine&quot;) ➞ []\n",
    "\n",
    "index_of_caps(&quot;STRIKE&quot;) ➞ [0, 1, 2, 3, 4, 5]\n",
    "\n",
    "index_of_caps(&quot;sUn&quot;) ➞ [1]"
   ]
  },
  {
   "cell_type": "code",
   "execution_count": 4,
   "id": "fed545fc",
   "metadata": {},
   "outputs": [
    {
     "name": "stdout",
     "output_type": "stream",
     "text": [
      "eDaBiT ➞ [1, 3, 5]\n",
      "eQuINoX ➞ [1, 3, 4, 6]\n",
      "determine ➞ []\n",
      "STRIKE ➞ [0, 1, 2, 3, 4, 5]\n",
      "sUn ➞ [1]\n"
     ]
    }
   ],
   "source": [
    "def index_of_caps(in_string):\n",
    "    out_string = []\n",
    "    for ele in in_string:\n",
    "        if ele.isupper():\n",
    "            out_string.append(in_string.index(ele))\n",
    "    print(f'{in_string} ➞ {out_string}')\n",
    "\n",
    "index_of_caps(\"eDaBiT\")\n",
    "index_of_caps(\"eQuINoX\")\n",
    "index_of_caps(\"determine\")\n",
    "index_of_caps(\"STRIKE\")\n",
    "index_of_caps(\"sUn\")"
   ]
  },
  {
   "cell_type": "markdown",
   "id": "83f81aa7",
   "metadata": {},
   "source": [
    "### Question5 Using list comprehensions, create a function that finds all even numbers from 1 to the given number.\n",
    "Examples\n",
    "\n",
    "find_even_nums(8) ➞ [2, 4, 6, 8]\n",
    "\n",
    "find_even_nums(4) ➞ [2, 4]\n",
    "\n",
    "find_even_nums(2) ➞ [2]"
   ]
  },
  {
   "cell_type": "code",
   "execution_count": 5,
   "id": "ef488ad3",
   "metadata": {},
   "outputs": [
    {
     "name": "stdout",
     "output_type": "stream",
     "text": [
      "Output ➞ [2, 4, 6, 8]\n",
      "Output ➞ [2, 4]\n",
      "Output ➞ [2]\n"
     ]
    }
   ],
   "source": [
    "def find_even_nums(in_num):\n",
    "    out_list = [i for i in range(1,in_num+1) if i%2 == 0]\n",
    "    print(f'Output ➞ {out_list}')\n",
    "    \n",
    "find_even_nums(8)\n",
    "find_even_nums(4)\n",
    "find_even_nums(2)"
   ]
  }
 ],
 "metadata": {
  "kernelspec": {
   "display_name": "Python 3 (ipykernel)",
   "language": "python",
   "name": "python3"
  },
  "language_info": {
   "codemirror_mode": {
    "name": "ipython",
    "version": 3
   },
   "file_extension": ".py",
   "mimetype": "text/x-python",
   "name": "python",
   "nbconvert_exporter": "python",
   "pygments_lexer": "ipython3",
   "version": "3.9.7"
  }
 },
 "nbformat": 4,
 "nbformat_minor": 5
}
