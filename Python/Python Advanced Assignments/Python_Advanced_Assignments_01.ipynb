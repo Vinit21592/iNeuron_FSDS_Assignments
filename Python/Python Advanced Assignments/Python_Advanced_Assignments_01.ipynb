{
 "cells": [
  {
   "cell_type": "markdown",
   "id": "b00de7ba",
   "metadata": {},
   "source": [
    "### Q1. What is the purpose of Python&#39;s OOP?"
   ]
  },
  {
   "cell_type": "markdown",
   "id": "1db0f366",
   "metadata": {},
   "source": [
    "Object-Oriented Programming in Python is a way of programming that focuses on using objects and classes to design and build applications. Major pillars of Object Oriented Programming (OOP) are Inheritance, Polymorphism, Data Abstraction, and Encapsulation.\n",
    "\n",
    "#### Why Choose Object Oriented Programming in Python?\n",
    "Python was designed with OOP approach and it offers the following advantages:\n",
    "* Provides a clear program structure and a clean code\n",
    "* Facilitates easy maintenance and modification of existing code\n",
    "* Since the class is sharable, the code can be reused and many other such Advantages."
   ]
  },
  {
   "cell_type": "markdown",
   "id": "303cc83f",
   "metadata": {},
   "source": [
    "### Q2. Where does an inheritance search look for an attribute?"
   ]
  },
  {
   "cell_type": "markdown",
   "id": "2d338365",
   "metadata": {},
   "source": [
    "Python searches for an attribute in an upward tree of attributes. It first searches for the attribute in its instance and then looks in the class it is generated from, to all super classes listed in its class header."
   ]
  },
  {
   "cell_type": "markdown",
   "id": "62fea010",
   "metadata": {},
   "source": [
    "### Q3. How do you distinguish between a class object and an instance object?"
   ]
  },
  {
   "cell_type": "markdown",
   "id": "fb89711e",
   "metadata": {},
   "source": [
    "1. Class is used as a template for declaring and creating the objects whereas object is an instance of a class.\n",
    "2. When a class is created, no memory is allocated whereas objects are allocated memory space whenever they are created.\n",
    "3. The class has to be declared first and only once. An object is created many times as per requirement.\n",
    "4. Class does not contain any values which can be associated with the field but Each object has its own values, which are associated with it."
   ]
  },
  {
   "cell_type": "markdown",
   "id": "050e4c8a",
   "metadata": {},
   "source": [
    "### Q4. What makes the first argument in a class’s method function special?"
   ]
  },
  {
   "cell_type": "markdown",
   "id": "a046419a",
   "metadata": {},
   "source": [
    "The calling process is automatic while the receiving process is not (its explicit). This is the reason the first parameter of a function in class must be the object itself. Writing this parameter as **self** is merely a convention. It is not a keyword and has no special meaning in Python. We could use other names (like **this**) but it is highly discouraged. Using names other than self is frowned upon by most developers and degrades the readability of the code (Readability counts)."
   ]
  },
  {
   "cell_type": "markdown",
   "id": "760e775e",
   "metadata": {},
   "source": [
    "### Q5. What is the purpose of the __init__ method?"
   ]
  },
  {
   "cell_type": "markdown",
   "id": "3929014e",
   "metadata": {},
   "source": [
    "**__ init __** is a reseved method in python classes. It is called as a constructor in object oriented terminology. This method is called when an object is created from a class and it allows the class to initialize the attributes of the class."
   ]
  },
  {
   "cell_type": "markdown",
   "id": "6d6b5038",
   "metadata": {},
   "source": [
    "### Q6. What is the process for creating a class instance?"
   ]
  },
  {
   "cell_type": "markdown",
   "id": "be08b65f",
   "metadata": {},
   "source": [
    "To create a class instance, we need to call the class by its name and pass the arguments to the class, which its **init** method accepts."
   ]
  },
  {
   "cell_type": "markdown",
   "id": "9cab1c92",
   "metadata": {},
   "source": [
    "Example:  **name = my_class(\"John\",\"Dev\")** Here name is an instance of class my_class with attributes \"John\" and \"Dev\"."
   ]
  },
  {
   "cell_type": "markdown",
   "id": "e6234a88",
   "metadata": {},
   "source": [
    "### Q7. What is the process for creating a class?"
   ]
  },
  {
   "cell_type": "markdown",
   "id": "3f247f70",
   "metadata": {},
   "source": [
    "**class** keyword is used to created a class in python. The syntax to create a class in python is `class <classname>:`"
   ]
  },
  {
   "cell_type": "markdown",
   "id": "74067cb7",
   "metadata": {},
   "source": [
    "### Q8. How would you define the superclasses of a class?"
   ]
  },
  {
   "cell_type": "markdown",
   "id": "0eb9387e",
   "metadata": {},
   "source": [
    "In object-oriented programming, a class from which other classes inherit code is called a **superclass**. Furthermore, the class that inherits the code is called a subclass of that superclass. Typically, a subclass inherits the instance variables and member functions of its superclass."
   ]
  },
  {
   "cell_type": "markdown",
   "id": "ab024061",
   "metadata": {},
   "source": [
    "Example:  **class Employee(Person)**: Here child class Employee inherits attributes and methofs from Superclass/Parent **Person**"
   ]
  }
 ],
 "metadata": {
  "kernelspec": {
   "display_name": "Python 3 (ipykernel)",
   "language": "python",
   "name": "python3"
  },
  "language_info": {
   "codemirror_mode": {
    "name": "ipython",
    "version": 3
   },
   "file_extension": ".py",
   "mimetype": "text/x-python",
   "name": "python",
   "nbconvert_exporter": "python",
   "pygments_lexer": "ipython3",
   "version": "3.9.7"
  }
 },
 "nbformat": 4,
 "nbformat_minor": 5
}
