{
 "cells": [
  {
   "cell_type": "markdown",
   "id": "834325eb",
   "metadata": {},
   "source": [
    "### 1. Write a Python Program to Add Two Matrices?"
   ]
  },
  {
   "cell_type": "code",
   "execution_count": 29,
   "id": "0da76a6e",
   "metadata": {},
   "outputs": [],
   "source": [
    "x = [[10,22,35],\n",
    "    [48 ,59,63],\n",
    "    [72 ,81,93]]\n",
    "\n",
    "y = [[1,2,3],\n",
    "    [4 ,5,6],\n",
    "    [7 ,8,9]]"
   ]
  },
  {
   "cell_type": "code",
   "execution_count": 30,
   "id": "1cc74e39",
   "metadata": {},
   "outputs": [],
   "source": [
    "def matrix_add(a1,a2):\n",
    "    r = [[0,0,0],\n",
    "        [0 ,0,0],\n",
    "        [0 ,0,0]]\n",
    "    \n",
    "    for i in range(len(a1)):\n",
    "        for j in range(len(a1[0])):\n",
    "            r[i][j] = a1[i][j] + a2[i][j]\n",
    "            \n",
    "    return r"
   ]
  },
  {
   "cell_type": "code",
   "execution_count": 31,
   "id": "b7a31f3a",
   "metadata": {},
   "outputs": [
    {
     "data": {
      "text/plain": [
       "[[11, 24, 38], [52, 64, 69], [79, 89, 102]]"
      ]
     },
     "execution_count": 31,
     "metadata": {},
     "output_type": "execute_result"
    }
   ],
   "source": [
    "matrix_add(x,y)"
   ]
  },
  {
   "cell_type": "markdown",
   "id": "f764a234",
   "metadata": {},
   "source": [
    "### 2. Write a Python Program to Multiply Two Matrices?"
   ]
  },
  {
   "cell_type": "code",
   "execution_count": 48,
   "id": "16f1cb67",
   "metadata": {},
   "outputs": [],
   "source": [
    "x = [[10,22,35],\n",
    "    [48 ,59,63],\n",
    "    [72 ,81,93]]\n",
    "\n",
    "y = [[1,2,3],\n",
    "    [4 ,5,6],\n",
    "    [7 ,8,9]]"
   ]
  },
  {
   "cell_type": "code",
   "execution_count": 49,
   "id": "38ed632c",
   "metadata": {},
   "outputs": [],
   "source": [
    "def matrix_multiply(a1,a2):\n",
    "    r = [[0,0,0],\n",
    "        [0 ,0,0],\n",
    "        [0 ,0,0]]\n",
    "    \n",
    "    for i in range(len(a1)):\n",
    "        for j in range(len(a2[0])):\n",
    "            for k in range(len(a2)):\n",
    "                r[i][j] += a1[i][k]*a2[k][j]\n",
    "                \n",
    "    return r"
   ]
  },
  {
   "cell_type": "code",
   "execution_count": 50,
   "id": "4a56d11c",
   "metadata": {},
   "outputs": [
    {
     "data": {
      "text/plain": [
       "[[343, 410, 477], [725, 895, 1065], [1047, 1293, 1539]]"
      ]
     },
     "execution_count": 50,
     "metadata": {},
     "output_type": "execute_result"
    }
   ],
   "source": [
    "matrix_multiply(x,y)"
   ]
  },
  {
   "cell_type": "markdown",
   "id": "081e257f",
   "metadata": {},
   "source": [
    "### 3. Write a Python Program to Transpose a Matrix?"
   ]
  },
  {
   "cell_type": "code",
   "execution_count": 51,
   "id": "5d0617cb",
   "metadata": {},
   "outputs": [],
   "source": [
    "x = [[1,2,3],\n",
    "    [4 ,5,6],\n",
    "    [7 ,8,9]]"
   ]
  },
  {
   "cell_type": "code",
   "execution_count": 52,
   "id": "cac486fb",
   "metadata": {},
   "outputs": [],
   "source": [
    "def transpose(a):\n",
    "    r = [[0,0,0],\n",
    "        [0 ,0,0],\n",
    "        [0 ,0,0]]\n",
    "    \n",
    "    for i in range(len(a)):\n",
    "        for j in range(len(a[0])):\n",
    "            r[j][i] = a[i][j]\n",
    "    \n",
    "    return r"
   ]
  },
  {
   "cell_type": "code",
   "execution_count": 53,
   "id": "16845529",
   "metadata": {},
   "outputs": [
    {
     "data": {
      "text/plain": [
       "[[1, 4, 7], [2, 5, 8], [3, 6, 9]]"
      ]
     },
     "execution_count": 53,
     "metadata": {},
     "output_type": "execute_result"
    }
   ],
   "source": [
    "transpose(x)"
   ]
  },
  {
   "cell_type": "markdown",
   "id": "3ed44d4a",
   "metadata": {},
   "source": [
    "### 4. Write a Python Program to Sort Words in Alphabetic Order?"
   ]
  },
  {
   "cell_type": "code",
   "execution_count": 62,
   "id": "ab988feb",
   "metadata": {},
   "outputs": [],
   "source": [
    "def sorttext(s):\n",
    "    string = sorted(s.split(' '))\n",
    "    print(' '.join(string))"
   ]
  },
  {
   "cell_type": "code",
   "execution_count": 64,
   "id": "d034e8f1",
   "metadata": {},
   "outputs": [
    {
     "name": "stdout",
     "output_type": "stream",
     "text": [
      "data science to welcome world\n"
     ]
    }
   ],
   "source": [
    "sorttext(\"welcome to data science world\")"
   ]
  },
  {
   "cell_type": "markdown",
   "id": "f59fcdce",
   "metadata": {},
   "source": [
    "### 5. Write a Python Program to Remove Punctuation From a String?"
   ]
  },
  {
   "cell_type": "code",
   "execution_count": 67,
   "id": "d34c91a1",
   "metadata": {},
   "outputs": [],
   "source": [
    "def remove_punct(text):\n",
    "    punctuations = '''!()-[]{};:'\"\\,<>./?@#$%^&*_~'''\n",
    "    return ''.join([c for c in text if c not in punctuations])"
   ]
  },
  {
   "cell_type": "code",
   "execution_count": 69,
   "id": "3024e343",
   "metadata": {},
   "outputs": [
    {
     "data": {
      "text/plain": [
       "'Have you a pen I can borrow she asked'"
      ]
     },
     "execution_count": 69,
     "metadata": {},
     "output_type": "execute_result"
    }
   ],
   "source": [
    "remove_punct('\"Have you a pen I can borrow?\" she asked.')"
   ]
  }
 ],
 "metadata": {
  "kernelspec": {
   "display_name": "Python 3 (ipykernel)",
   "language": "python",
   "name": "python3"
  },
  "language_info": {
   "codemirror_mode": {
    "name": "ipython",
    "version": 3
   },
   "file_extension": ".py",
   "mimetype": "text/x-python",
   "name": "python",
   "nbconvert_exporter": "python",
   "pygments_lexer": "ipython3",
   "version": "3.9.7"
  }
 },
 "nbformat": 4,
 "nbformat_minor": 5
}
