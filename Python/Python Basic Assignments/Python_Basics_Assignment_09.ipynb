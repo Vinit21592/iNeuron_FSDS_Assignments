{
 "cells": [
  {
   "cell_type": "markdown",
   "id": "3fc717db",
   "metadata": {},
   "source": [
    "### 1. To what does a relative path refer?"
   ]
  },
  {
   "cell_type": "markdown",
   "id": "0b2e24a3",
   "metadata": {},
   "source": [
    "A relative path refers to a location that is relative to a current directory.\n",
    "\n",
    "**Example:** If the current directory is `\"C:\\Windows\\System\"`, the relative path to Solitaire is `\"..\\sol.exe\"`."
   ]
  },
  {
   "cell_type": "markdown",
   "id": "02db0ad7",
   "metadata": {},
   "source": [
    "### 2. What does an absolute path start with your operating system?"
   ]
  },
  {
   "cell_type": "markdown",
   "id": "e464de8d",
   "metadata": {},
   "source": [
    "In Linux based systems the absolute path starts with `/`. Where as in Windows based systems absolute path starts with `C:\\`"
   ]
  },
  {
   "cell_type": "markdown",
   "id": "94f04dc0",
   "metadata": {},
   "source": [
    "### 3. What do the functions os.getcwd() and os.chdir() do?"
   ]
  },
  {
   "cell_type": "markdown",
   "id": "f395645d",
   "metadata": {},
   "source": [
    "**os.getcwd()** - Returns the path of current working directory.\n",
    "\n",
    "**os.chdir()** - Changes the current working directory to the given path. Takes path argument."
   ]
  },
  {
   "cell_type": "code",
   "execution_count": null,
   "id": "d7e4da4b",
   "metadata": {},
   "outputs": [],
   "source": [
    "import os\n",
    "os.getcwd()\n",
    "os.chdir(\"new\\path\")"
   ]
  },
  {
   "cell_type": "markdown",
   "id": "6cfff9d2",
   "metadata": {},
   "source": [
    "### 4. What are the . and .. folders?"
   ]
  },
  {
   "cell_type": "markdown",
   "id": "777b89a5",
   "metadata": {},
   "source": [
    "`.` Represents the Current Directory\n",
    "\n",
    "Whereas `..` Represents the Parent Directory of the Current Directory"
   ]
  },
  {
   "cell_type": "markdown",
   "id": "7057bff3",
   "metadata": {},
   "source": [
    "### 5. In C:\\bacon\\eggs\\spam.txt, which part is the dir name, and which part is the base name?"
   ]
  },
  {
   "cell_type": "markdown",
   "id": "7b4eec6e",
   "metadata": {},
   "source": [
    "For the given path `C:\\bacon\\eggs\\spam.txt`\n",
    "\n",
    "`C:\\bacon\\eggs` is the dir name and `spam.txt` is the base name"
   ]
  },
  {
   "cell_type": "code",
   "execution_count": 1,
   "id": "5e0ef379",
   "metadata": {},
   "outputs": [
    {
     "name": "stdout",
     "output_type": "stream",
     "text": [
      "C:\\bacon\\eggs\n",
      "spam.txt\n"
     ]
    }
   ],
   "source": [
    "import os\n",
    "path = r\"C:\\bacon\\eggs\\spam.txt\"\n",
    "print(os.path.dirname(path))\n",
    "print(os.path.basename(path))"
   ]
  },
  {
   "cell_type": "markdown",
   "id": "3f2ad59b",
   "metadata": {},
   "source": [
    "### 6. What are the three “mode” arguments that can be passed to the open() function?"
   ]
  },
  {
   "cell_type": "markdown",
   "id": "69dda408",
   "metadata": {},
   "source": [
    "the three modes that can be passed to the open() function as an argument are:\n",
    "\n",
    "`\"r\"` - Read - Default value. Opens a file for reading, error if the file does not exist\n",
    "\n",
    "`\"w\"` - Write - Opens a file for writing, creates the file if it does not exist\n",
    "\n",
    "`\"a\"` - Append - Opens a file for appending, creates the file if it does not exist"
   ]
  },
  {
   "cell_type": "markdown",
   "id": "e0d55185",
   "metadata": {},
   "source": [
    "### 7. What happens if an existing file is opened in write mode?"
   ]
  },
  {
   "cell_type": "markdown",
   "id": "de1f21be",
   "metadata": {},
   "source": [
    "if the file is opened in write mode then existing data will be removed, it also creates a file, if the file does not exist."
   ]
  },
  {
   "cell_type": "markdown",
   "id": "e0c5ac24",
   "metadata": {},
   "source": [
    "### 8. How do you tell the difference between read() and readlines()?"
   ]
  },
  {
   "cell_type": "markdown",
   "id": "21c4af8c",
   "metadata": {},
   "source": [
    "**read()** function returns all the content of file at once whereas **readlines()** function returns the content line by line seperated by line break."
   ]
  },
  {
   "cell_type": "markdown",
   "id": "6df1848b",
   "metadata": {},
   "source": [
    "### 9. What data structure does a shelf value resemble?"
   ]
  },
  {
   "cell_type": "markdown",
   "id": "8e324829",
   "metadata": {},
   "source": [
    "A shelf value resembles a dictionary value; it has keys and values, along with keys() and values() methods that work similarly to the dictionary methods of the same names."
   ]
  }
 ],
 "metadata": {
  "kernelspec": {
   "display_name": "Python 3 (ipykernel)",
   "language": "python",
   "name": "python3"
  },
  "language_info": {
   "codemirror_mode": {
    "name": "ipython",
    "version": 3
   },
   "file_extension": ".py",
   "mimetype": "text/x-python",
   "name": "python",
   "nbconvert_exporter": "python",
   "pygments_lexer": "ipython3",
   "version": "3.9.7"
  }
 },
 "nbformat": 4,
 "nbformat_minor": 5
}
