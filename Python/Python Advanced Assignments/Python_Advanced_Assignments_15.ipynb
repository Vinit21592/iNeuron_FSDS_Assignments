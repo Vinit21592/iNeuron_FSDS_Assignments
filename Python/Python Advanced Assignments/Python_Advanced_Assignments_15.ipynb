{
 "cells": [
  {
   "cell_type": "markdown",
   "id": "3f14b503",
   "metadata": {},
   "source": [
    "### 1. What are the new features added in Python 3.8 version?"
   ]
  },
  {
   "cell_type": "markdown",
   "id": "664057f9",
   "metadata": {},
   "source": [
    "Python 3.8 was released on October 14th, 2019, and introduced several new features and improvements. Some of the notable new features include:\n",
    "\n",
    "1. **Assignment Expressions (The Walrus Operator):** This new operator (:=) allows you to assign values to variables as part of an expression. This can make your code more concise and readable.\n",
    "\n",
    "2. **Positional-only parameters:** You can now mark function parameters as positional-only by using a slash (/) character in the parameter list. This means that the parameters can only be specified by their position, and not by their name.\n",
    "\n",
    "3. **f-strings improvements:** Python 3.8 added support for = to f-strings, which allows you to specify a value to be displayed if a variable is None. Also, f-strings now support debugging, allowing you to see the values of variables in your f-strings.\n",
    "\n",
    "4. **Improvements to typing:** Python 3.8 includes several improvements to the typing module, including the addition of TypedDict, a way to define dictionaries with specific key/value types.\n",
    "\n",
    "5. **Vectorcall:** Python 3.8 introduced a new calling protocol, called \"vectorcall\", which allows for faster function calls with fewer memory allocations.\n",
    "\n",
    "6. **Improvements to subprocess:** The subprocess module has been improved in Python 3.8, including new ways to set the environment variables of subprocesses and better handling of subprocess output.\n",
    "\n",
    "7. **Math functions:** Python 3.8 added several new math functions to the math module, including isqrt (integer square root) and the ability to compute the greatest common divisor of multiple numbers."
   ]
  },
  {
   "cell_type": "markdown",
   "id": "c0402729",
   "metadata": {},
   "source": [
    "### 2. What is monkey patching in Python?"
   ]
  },
  {
   "cell_type": "markdown",
   "id": "2b642de0",
   "metadata": {},
   "source": [
    "In Python, the term monkey patch refers to making dynamic (or run-time) modifications to a class or module. In Python, we can actually change the behavior of code at run-time."
   ]
  },
  {
   "cell_type": "code",
   "execution_count": null,
   "id": "152b1bcd",
   "metadata": {},
   "outputs": [],
   "source": [
    "class A:\n",
    "    def func(self):\n",
    "        print(\"func() is being called\")\n",
    "\n",
    "def monkey_f(self):\n",
    "    print(\"monkey_f() is being called\")\n",
    "\n",
    "A.func = monkey_f\n",
    "some_object = A()\n",
    "some_object.func()"
   ]
  },
  {
   "cell_type": "markdown",
   "id": "39442195",
   "metadata": {},
   "source": [
    "### 3. What is the difference between a shallow copy and deep copy?"
   ]
  },
  {
   "cell_type": "markdown",
   "id": "c6a8ba39",
   "metadata": {},
   "source": [
    "The Differences between a Shallow Copy and deep copy are as follows:\n",
    "\n",
    "When an object is copied using copy(), it is called shallow copy as changes made in copied object will also make corresponding changes in original object, because both the objects will be referencing same address location.\n",
    "\n",
    "When an object is copied using deepcopy(), it is called deep copy as changes made in copied object will not make corresponding changes in original object, because both the objects will not be referencing same address location."
   ]
  },
  {
   "cell_type": "markdown",
   "id": "08d21737",
   "metadata": {},
   "source": [
    "### 4. What is the maximum possible length of an identifier?"
   ]
  },
  {
   "cell_type": "markdown",
   "id": "260a3f07",
   "metadata": {},
   "source": [
    "In Python, the highest possible length of an identifier is 79 characters. Python is a high level programming language. It’s also a complex form and a collector of waste.\n",
    "\n",
    "* Python, particularly when combined with identifiers, is case-sensitive.\n",
    "* When writing or using identifiers in Python, it has a maximum of 79 characters.\n",
    "* Unlikely, Python gives the identifiers unlimited length.\n",
    "* However, the layout of PEP-8 prevents the user from breaking the rules and includes a 79-character limit."
   ]
  },
  {
   "cell_type": "markdown",
   "id": "aca7c26a",
   "metadata": {},
   "source": [
    "### 5. What is generator comprehension?"
   ]
  },
  {
   "cell_type": "markdown",
   "id": "9ebba67b",
   "metadata": {},
   "source": [
    "A generator comprehension is a single-line specification for defining a generator in Python.\n",
    "\n",
    "* It is absolutely essential to learn this syntax in order to write simple and readable code.\n",
    "* Generator comprehension uses round bracket unlike square bracket in list comprehension.\n",
    "* The generator yields one item at a time and generates item only when in demand. Whereas, in a list comprehension, Python reserves memory for the whole list. Thus we can say that the generator expressions are memory efficient than the lists."
   ]
  }
 ],
 "metadata": {
  "kernelspec": {
   "display_name": "py",
   "language": "python",
   "name": "myenv"
  },
  "language_info": {
   "codemirror_mode": {
    "name": "ipython",
    "version": 3
   },
   "file_extension": ".py",
   "mimetype": "text/x-python",
   "name": "python",
   "nbconvert_exporter": "python",
   "pygments_lexer": "ipython3",
   "version": "3.10.9"
  }
 },
 "nbformat": 4,
 "nbformat_minor": 5
}
