{
 "cells": [
  {
   "cell_type": "markdown",
   "id": "812e2383",
   "metadata": {},
   "source": [
    "### 1.Write a Python Program to find sum of elements in a list ?"
   ]
  },
  {
   "cell_type": "code",
   "execution_count": 8,
   "id": "2aca3930",
   "metadata": {},
   "outputs": [
    {
     "name": "stdout",
     "output_type": "stream",
     "text": [
      "sum of elements in a list: 15\n"
     ]
    }
   ],
   "source": [
    "l = [1,2,3,4,5]\n",
    "total = 0\n",
    "for ele in range(0,len(l)):\n",
    "    total = total + l[ele]\n",
    "print(\"sum of elements in a list:\",total)"
   ]
  },
  {
   "cell_type": "markdown",
   "id": "4b2a7dc5",
   "metadata": {},
   "source": [
    "### 2. Write a Python program to Multiply all numbers in the list?"
   ]
  },
  {
   "cell_type": "code",
   "execution_count": 20,
   "id": "72a18ad3",
   "metadata": {},
   "outputs": [],
   "source": [
    "def multiply(mylist):\n",
    "    result = 1\n",
    "    for ele in mylist:\n",
    "        result = result * ele\n",
    "    return result"
   ]
  },
  {
   "cell_type": "code",
   "execution_count": 21,
   "id": "69fce893",
   "metadata": {},
   "outputs": [
    {
     "data": {
      "text/plain": [
       "30240"
      ]
     },
     "execution_count": 21,
     "metadata": {},
     "output_type": "execute_result"
    }
   ],
   "source": [
    "l1 = [6,7,8,9,10]\n",
    "multiply(l1)"
   ]
  },
  {
   "cell_type": "code",
   "execution_count": 22,
   "id": "0bdea5aa",
   "metadata": {},
   "outputs": [
    {
     "data": {
      "text/plain": [
       "120"
      ]
     },
     "execution_count": 22,
     "metadata": {},
     "output_type": "execute_result"
    }
   ],
   "source": [
    "l2 = [1,2,3,4,5]\n",
    "multiply(l2)"
   ]
  },
  {
   "cell_type": "markdown",
   "id": "6f5fc777",
   "metadata": {},
   "source": [
    "### 3. Write a Python program to find smallest number in a list?"
   ]
  },
  {
   "cell_type": "code",
   "execution_count": 23,
   "id": "ce4f1589",
   "metadata": {},
   "outputs": [
    {
     "name": "stdout",
     "output_type": "stream",
     "text": [
      "Smallest number in a list is: 11\n"
     ]
    }
   ],
   "source": [
    "l = [100,103,45,65,21,11]\n",
    "l.sort()\n",
    "print(\"Smallest number in a list is:\",l[0])"
   ]
  },
  {
   "cell_type": "markdown",
   "id": "b457cd5b",
   "metadata": {},
   "source": [
    "### 4. Write a Python program to find largest number in a list?"
   ]
  },
  {
   "cell_type": "code",
   "execution_count": 24,
   "id": "93383139",
   "metadata": {},
   "outputs": [
    {
     "name": "stdout",
     "output_type": "stream",
     "text": [
      "Largest number in a list is: 108\n"
     ]
    }
   ],
   "source": [
    "l = [92,23,87,108,96,22]\n",
    "l.sort()\n",
    "print(\"Largest number in a list is:\",l[-1])"
   ]
  },
  {
   "cell_type": "markdown",
   "id": "1d18d9ba",
   "metadata": {},
   "source": [
    "### 5. Write a Python program to find second largest number in a list?"
   ]
  },
  {
   "cell_type": "code",
   "execution_count": 27,
   "id": "bb9057aa",
   "metadata": {},
   "outputs": [
    {
     "name": "stdout",
     "output_type": "stream",
     "text": [
      "Second largest number in a list is: 55\n"
     ]
    }
   ],
   "source": [
    "list1 = [1,2,3,3,4,55,6,7,9,8,62]\n",
    "# removing duplicates from list\n",
    "list2 = list(set(list1))\n",
    "list2.sort()\n",
    "print(\"Second largest number in a list is:\",list2[-2])"
   ]
  },
  {
   "cell_type": "markdown",
   "id": "9929a57c",
   "metadata": {},
   "source": [
    "### 6. Write a Python program to find N largest elements from a list?"
   ]
  },
  {
   "cell_type": "code",
   "execution_count": 28,
   "id": "b9954039",
   "metadata": {},
   "outputs": [],
   "source": [
    "def N_max_elements(list, N):\n",
    "    result_list = []\n",
    "  \n",
    "    for i in range(0, N): \n",
    "        maximum = 0\n",
    "          \n",
    "        for j in range(len(list)):     \n",
    "            if list[j] > maximum:\n",
    "                maximum = list[j]\n",
    "                  \n",
    "        list.remove(maximum)\n",
    "        result_list.append(maximum)\n",
    "          \n",
    "    return result_list"
   ]
  },
  {
   "cell_type": "code",
   "execution_count": 29,
   "id": "f5fbc5e7",
   "metadata": {},
   "outputs": [
    {
     "data": {
      "text/plain": [
       "[5392, 108, 100]"
      ]
     },
     "execution_count": 29,
     "metadata": {},
     "output_type": "execute_result"
    }
   ],
   "source": [
    "N_max_elements([45,5392,108,100,45,56], 3)"
   ]
  },
  {
   "cell_type": "markdown",
   "id": "e5638808",
   "metadata": {},
   "source": [
    "### 7. Write a Python program to print even numbers in a list?"
   ]
  },
  {
   "cell_type": "code",
   "execution_count": 30,
   "id": "004b3773",
   "metadata": {},
   "outputs": [
    {
     "name": "stdout",
     "output_type": "stream",
     "text": [
      "Even numbers in a list: [2, 4, 6, 8, 10]\n"
     ]
    }
   ],
   "source": [
    "list3 = [1,2,3,4,5,6,7,8,9,10]\n",
    "even_num = [num for num in list3 if num%2 == 0]\n",
    "print(\"Even numbers in a list:\",even_num)"
   ]
  },
  {
   "cell_type": "markdown",
   "id": "25c5cf42",
   "metadata": {},
   "source": [
    "### 8. Write a Python program to print odd numbers in a List?"
   ]
  },
  {
   "cell_type": "code",
   "execution_count": 31,
   "id": "fcb4cd0f",
   "metadata": {},
   "outputs": [
    {
     "name": "stdout",
     "output_type": "stream",
     "text": [
      "Odd numbers in a list: [1, 3, 5, 7, 9]\n"
     ]
    }
   ],
   "source": [
    "list3 = [1,2,3,4,5,6,7,8,9,10]\n",
    "odd_num = [num for num in list3 if num%2 != 0]\n",
    "print(\"Odd numbers in a list:\",odd_num)"
   ]
  },
  {
   "cell_type": "markdown",
   "id": "62776791",
   "metadata": {},
   "source": [
    "### 9. Write a Python program to Remove empty List from List?"
   ]
  },
  {
   "cell_type": "code",
   "execution_count": 32,
   "id": "c178e304",
   "metadata": {},
   "outputs": [
    {
     "name": "stdout",
     "output_type": "stream",
     "text": [
      "The original list is: [1, [], 2, 3, [], 4, 5, [], [], 9]\n",
      "List after empty list removal: [1, 2, 3, 4, 5, 9]\n"
     ]
    }
   ],
   "source": [
    "myList = [1, [], 2, 3, [], 4, 5, [], [], 9]\n",
    "# printing original list\n",
    "print(\"The original list is:\",myList)\n",
    "# Remove empty List from List\n",
    "result = [i for i in myList if i != []]\n",
    "print(\"List after empty list removal:\",result)"
   ]
  },
  {
   "cell_type": "markdown",
   "id": "c87a0558",
   "metadata": {},
   "source": [
    "### 10. Write a Python program to Cloning or Copying a list?"
   ]
  },
  {
   "cell_type": "code",
   "execution_count": 33,
   "id": "12eae544",
   "metadata": {},
   "outputs": [],
   "source": [
    "def clone(l1):\n",
    "    l1_copy = [i for i in l1]\n",
    "    return l1_copy"
   ]
  },
  {
   "cell_type": "code",
   "execution_count": 34,
   "id": "011d8528",
   "metadata": {},
   "outputs": [
    {
     "name": "stdout",
     "output_type": "stream",
     "text": [
      "Original List: [101, 201, 301, 401, 501, 601]\n",
      "After Cloning: [101, 201, 301, 401, 501, 601]\n"
     ]
    }
   ],
   "source": [
    "l1 = [101,201,301,401,501,601]\n",
    "l2 = clone(l1)\n",
    "print(\"Original List:\",l1)\n",
    "print(\"After Cloning:\",l2)"
   ]
  },
  {
   "cell_type": "markdown",
   "id": "bc8d0b6d",
   "metadata": {},
   "source": [
    "### 11. Write a Python program to Count occurrences of an element in a list?"
   ]
  },
  {
   "cell_type": "code",
   "execution_count": 36,
   "id": "63097ea7",
   "metadata": {},
   "outputs": [],
   "source": [
    "def count(lst,x):\n",
    "    count = 0\n",
    "    for i in lst:\n",
    "        if (i == x):\n",
    "            count = count + 1\n",
    "    return count"
   ]
  },
  {
   "cell_type": "code",
   "execution_count": 37,
   "id": "9eb8a300",
   "metadata": {},
   "outputs": [
    {
     "name": "stdout",
     "output_type": "stream",
     "text": [
      "2 has occured 4 times\n"
     ]
    }
   ],
   "source": [
    "l1 = [1,2,2,2,2,3,3,4,5,6,7,7,7,7,8,9]\n",
    "x = 2\n",
    "print('{} has occured {} times'.format(x,count(l1,x)))"
   ]
  }
 ],
 "metadata": {
  "kernelspec": {
   "display_name": "Python 3 (ipykernel)",
   "language": "python",
   "name": "python3"
  },
  "language_info": {
   "codemirror_mode": {
    "name": "ipython",
    "version": 3
   },
   "file_extension": ".py",
   "mimetype": "text/x-python",
   "name": "python",
   "nbconvert_exporter": "python",
   "pygments_lexer": "ipython3",
   "version": "3.9.7"
  }
 },
 "nbformat": 4,
 "nbformat_minor": 5
}
