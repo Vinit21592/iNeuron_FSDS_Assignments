{
 "cells": [
  {
   "cell_type": "markdown",
   "id": "bf9cd653",
   "metadata": {},
   "source": [
    "### 1. How do you distinguish between shutil.copy() and shutil.copytree()?"
   ]
  },
  {
   "cell_type": "markdown",
   "id": "068dbb85",
   "metadata": {},
   "source": [
    "Shutil module included in Python’s standard utility modules provides many functions of high-level operations on files and collections of files. This module helps in automating process of copying and removal of files and directories.\n",
    "\n",
    "**shutil.copy()** method in Python is used to copy the content of source file to destination file or directory.\n",
    "\n",
    "**shutil.copytree()** method recursively copies an entire directory tree rooted at source (src) to the destination directory. The destination directory, named by (dst) must not already exist."
   ]
  },
  {
   "cell_type": "markdown",
   "id": "25d70344",
   "metadata": {},
   "source": [
    "### 2. What function is used to rename files?"
   ]
  },
  {
   "cell_type": "markdown",
   "id": "4c2e5e82",
   "metadata": {},
   "source": [
    "**os.rename()** method in Python is used to rename a file or directory."
   ]
  },
  {
   "cell_type": "markdown",
   "id": "80fa77e0",
   "metadata": {},
   "source": [
    "### 3. What is the difference between the delete functions in the send2trash and shutil modules?"
   ]
  },
  {
   "cell_type": "markdown",
   "id": "a5e40d52",
   "metadata": {},
   "source": [
    "The send2trash functions will move a file or folder to the recycle bin, while shutil functions will permanently delete files and folders."
   ]
  },
  {
   "cell_type": "markdown",
   "id": "b7a1c1ca",
   "metadata": {},
   "source": [
    "### 4.ZipFile objects have a close() method just like File objects’ close() method. What ZipFile method is equivalent to File objects’ open() method?"
   ]
  },
  {
   "cell_type": "markdown",
   "id": "992297ef",
   "metadata": {},
   "source": [
    "ZipFile Module provides a method called as zipfile.ZipFile() to read and write to zipFiles. it takes arugments lile filename and mode etc \n",
    "**zipfile.ZipFile('filename', mode = 'r')**"
   ]
  },
  {
   "cell_type": "markdown",
   "id": "c121ffd9",
   "metadata": {},
   "source": [
    "### 5. Create a programme that searches a folder tree for files with a certain file extension (such as .pdfor .jpg). Copy these files from whatever location they are in to a new folder."
   ]
  },
  {
   "cell_type": "code",
   "execution_count": 1,
   "id": "482935f1",
   "metadata": {},
   "outputs": [],
   "source": [
    "import os\n",
    "import shutil\n",
    "\n",
    "def get_clean_extension(ext):\n",
    "    \"\"\"\n",
    "    Removes . if includes in extension.\n",
    "    \"\"\"\n",
    "    if '.' in ext:\n",
    "        return ext.replace('.', '')\n",
    "    return ext\n",
    "\n",
    "\n",
    "def deep_search_and_copy(src, dest, filters):\n",
    "    \"\"\"\n",
    "    Traverse through the directory structure and copy the files with\n",
    "    specified file extension from source to destination path.\n",
    "    \"\"\"\n",
    "    file_paths = []\n",
    "    cleaned_filter = [get_clean_extension(ext) for ext in filters]\n",
    "\n",
    "    for root, directories, files in os.walk(src):\n",
    "        for filename in files:\n",
    "            ext = filename.split('.')[-1]\n",
    "            if ext in cleaned_filter:\n",
    "                filepath = os.path.join(root, filename)\n",
    "                file_paths.append(filepath)\n",
    "                shutil.copy(filepath, dest)"
   ]
  },
  {
   "cell_type": "code",
   "execution_count": null,
   "id": "cbb4d71d",
   "metadata": {},
   "outputs": [],
   "source": [
    "src = r'C:\\temp\\spam'\n",
    "dest = r'D:\\temp\\spam'\n",
    "ext_list = ['pdf', '.jpg']\n",
    "deep_search_and_copy(src, dest, ext_list)"
   ]
  }
 ],
 "metadata": {
  "kernelspec": {
   "display_name": "Python 3 (ipykernel)",
   "language": "python",
   "name": "python3"
  },
  "language_info": {
   "codemirror_mode": {
    "name": "ipython",
    "version": 3
   },
   "file_extension": ".py",
   "mimetype": "text/x-python",
   "name": "python",
   "nbconvert_exporter": "python",
   "pygments_lexer": "ipython3",
   "version": "3.9.7"
  }
 },
 "nbformat": 4,
 "nbformat_minor": 5
}
