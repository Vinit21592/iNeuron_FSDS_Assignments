{
 "cells": [
  {
   "cell_type": "markdown",
   "id": "31c98c5b",
   "metadata": {},
   "source": [
    "### Q1. What is the relationship between classes and modules?"
   ]
  },
  {
   "cell_type": "markdown",
   "id": "d5fec692",
   "metadata": {},
   "source": [
    "A python class is supposed to be a blueprint to create (many) instances of objects based on that blueprint. Moreover, classes can have sub-classes (inheritance).\n",
    "\n",
    "In python world, module is a python file **`(.py)`** inside a package. Package is a folder that has **`__init__.py`** in its root. It is a way to organize your codes physically (in files and folders)."
   ]
  },
  {
   "cell_type": "markdown",
   "id": "0da577a5",
   "metadata": {},
   "source": [
    "### Q2. How do you make instances and classes?"
   ]
  },
  {
   "cell_type": "markdown",
   "id": "988aed40",
   "metadata": {},
   "source": [
    "The **`class`** statement creates a new class definition. The name of the class immediately follows the keyword class followed by a colon as follows:"
   ]
  },
  {
   "cell_type": "code",
   "execution_count": 1,
   "id": "88f461cc",
   "metadata": {},
   "outputs": [],
   "source": [
    "class Employee:\n",
    "    def __init__(self, name, salary):\n",
    "        self.name = name\n",
    "        self.salary = salary"
   ]
  },
  {
   "cell_type": "markdown",
   "id": "8d965c2c",
   "metadata": {},
   "source": [
    "To create instances of a class, you call the class using class name and pass in whatever arguments its **`__init__`** method accepts."
   ]
  },
  {
   "cell_type": "code",
   "execution_count": 2,
   "id": "9294a045",
   "metadata": {},
   "outputs": [],
   "source": [
    "# This would create first object of Employee class\n",
    "emp = Employee(\"John\", 2000)"
   ]
  },
  {
   "cell_type": "markdown",
   "id": "f910f328",
   "metadata": {},
   "source": [
    "Here emp is an instance of class Employee with attributes 'John' and 2000."
   ]
  },
  {
   "cell_type": "markdown",
   "id": "99290a8f",
   "metadata": {},
   "source": [
    "### Q3. Where and how should be class attributes created?"
   ]
  },
  {
   "cell_type": "markdown",
   "id": "02e7bfd7",
   "metadata": {},
   "source": [
    "Class attributes or Class level Attributes belong to the class itself. these attributes will be shared by all the instances of the class. Hence these attributes are usually created/defined in the top of class definiation outside all methods."
   ]
  },
  {
   "cell_type": "code",
   "execution_count": 1,
   "id": "cd4ee271",
   "metadata": {},
   "outputs": [],
   "source": [
    "class Car:\n",
    "    no_of_wheels = 4\n",
    "    # this is a class attribute\n",
    "    def __init__(self,color,price,engine):\n",
    "        self.color = color\n",
    "        self.price = price\n",
    "        self.engine = engine\n",
    "        # All this are instance attributes"
   ]
  },
  {
   "cell_type": "markdown",
   "id": "37a5c03f",
   "metadata": {},
   "source": [
    "### Q4. Where and how are instance attributes created?"
   ]
  },
  {
   "cell_type": "markdown",
   "id": "0ee72af5",
   "metadata": {},
   "source": [
    "Instances attributes are passed to the class when an object of the class is created. Unlike class attributes, instance attributes are not shared by all objects of the classs. instead each object maintains its own copy of instance attributes at object level. whereas incase of class attributes all instances of class refer to a single copy. Usually instance attributes are defined within the `__init__` method of class."
   ]
  },
  {
   "cell_type": "code",
   "execution_count": 2,
   "id": "058e24fe",
   "metadata": {},
   "outputs": [],
   "source": [
    "class Car:\n",
    "    def __init__(self,color,price,engine):\n",
    "        self.color = color\n",
    "        self.price = price\n",
    "        self.engine = engine\n",
    "        # All this are instance attributes"
   ]
  },
  {
   "cell_type": "code",
   "execution_count": 4,
   "id": "6d94625b",
   "metadata": {},
   "outputs": [],
   "source": [
    "renault = Car('Indigo Blue', 1400000, 'electric')\n",
    "tata = Car('Pearl White',2100000, 'petrol')\n",
    "# renault, tata are both the instances of class Car with different instance variables."
   ]
  },
  {
   "cell_type": "markdown",
   "id": "b6c580ba",
   "metadata": {},
   "source": [
    "### Q5. What does the term &quot;self&quot; in a Python class mean?"
   ]
  },
  {
   "cell_type": "markdown",
   "id": "830e2e4b",
   "metadata": {},
   "source": [
    "**`self`** represents the instance of the class (it represents the object itself). By using the “self” keyword we can access the attributes and methods of the class with in the class in python. It binds the attributes with the given arguments."
   ]
  },
  {
   "cell_type": "markdown",
   "id": "140c6eec",
   "metadata": {},
   "source": [
    "### Q6. How does a Python class handle operator overloading?"
   ]
  },
  {
   "cell_type": "markdown",
   "id": "8923e6e1",
   "metadata": {},
   "source": [
    "Python Classes handle operator overloading by using special methods called Magic methods. These special methods usually begin and end with **`__`** (double underscore)"
   ]
  },
  {
   "cell_type": "markdown",
   "id": "eba8ab79",
   "metadata": {},
   "source": [
    "Magic methods for basic arithmetic operators are:\n",
    "\n",
    "* **`+ -> __add__()`**\n",
    "* **`- -> __sub__()`**\n",
    "* **`* -> __mul__()`**\n",
    "* **`/ -> __div__()`**"
   ]
  },
  {
   "cell_type": "markdown",
   "id": "108f5ba9",
   "metadata": {},
   "source": [
    "### Q7. When do you consider allowing operator overloading of your classes?"
   ]
  },
  {
   "cell_type": "markdown",
   "id": "71aced49",
   "metadata": {},
   "source": [
    "When we want to have different meaning for the same operator accroding to the context we use operator overloading."
   ]
  },
  {
   "cell_type": "markdown",
   "id": "6727aa49",
   "metadata": {},
   "source": [
    "### Q8. What is the most popular form of operator overloading?"
   ]
  },
  {
   "cell_type": "markdown",
   "id": "32c0a938",
   "metadata": {},
   "source": [
    "The most popular form of operator overloading in python is by special methods called **Magic methods**, which usually begin and end with double underscore **`__<method name>__`**."
   ]
  },
  {
   "cell_type": "markdown",
   "id": "5d9b4f6b",
   "metadata": {},
   "source": [
    "### Q9. What are the two most important concepts to grasp in order to comprehend Python OOP code?"
   ]
  },
  {
   "cell_type": "markdown",
   "id": "d51ca9c8",
   "metadata": {},
   "source": [
    "Classes and objects are the two concepts to comprehend python OOP code as more formally objects are entities that represent instances of general abstract concept called class.\n",
    "\n",
    "Along with classes and objects the important concepts to grasp are:\n",
    "\n",
    "1. Inheritence\n",
    "2. Abstraction\n",
    "3. Polymorphism\n",
    "4. Encapsulation"
   ]
  }
 ],
 "metadata": {
  "kernelspec": {
   "display_name": "Python 3 (ipykernel)",
   "language": "python",
   "name": "python3"
  },
  "language_info": {
   "codemirror_mode": {
    "name": "ipython",
    "version": 3
   },
   "file_extension": ".py",
   "mimetype": "text/x-python",
   "name": "python",
   "nbconvert_exporter": "python",
   "pygments_lexer": "ipython3",
   "version": "3.9.7"
  }
 },
 "nbformat": 4,
 "nbformat_minor": 5
}
