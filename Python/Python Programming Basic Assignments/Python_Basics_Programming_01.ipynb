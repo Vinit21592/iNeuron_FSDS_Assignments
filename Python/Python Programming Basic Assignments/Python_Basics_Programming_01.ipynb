{
 "cells": [
  {
   "cell_type": "markdown",
   "id": "cd129a91",
   "metadata": {},
   "source": [
    "### 1. Write a Python program to print &quot;Hello Python&quot;?"
   ]
  },
  {
   "cell_type": "code",
   "execution_count": 1,
   "id": "f538bdd6",
   "metadata": {},
   "outputs": [
    {
     "name": "stdout",
     "output_type": "stream",
     "text": [
      "Hello Python\n"
     ]
    }
   ],
   "source": [
    "print(\"Hello Python\")"
   ]
  },
  {
   "cell_type": "markdown",
   "id": "e3c8813a",
   "metadata": {},
   "source": [
    "### 2. Write a Python program to do arithmetical operations addition and division?"
   ]
  },
  {
   "cell_type": "code",
   "execution_count": 14,
   "id": "24f29e26",
   "metadata": {},
   "outputs": [
    {
     "name": "stdout",
     "output_type": "stream",
     "text": [
      "Enter first number 30\n",
      "Enter second number 60\n",
      "The sum of 30 and 60 is 90\n",
      "The subtraction of 30 and 60 is -30\n",
      "The multiplication of 30 and 60 is 1800\n",
      "The division of 30 and 60 is 0.5\n"
     ]
    }
   ],
   "source": [
    "num1 = int(input(\"Enter first number \"))\n",
    "num2 = int(input(\"Enter second number \"))\n",
    "\n",
    "#Add two numbers\n",
    "sum = num1 + num2\n",
    "\n",
    "#Subtract two numbers\n",
    "sub = num1 - num2\n",
    "\n",
    "#Multiply two numbers\n",
    "mul = num1 * num2\n",
    "\n",
    "#Divide two numbers\n",
    "div = num1 / num2\n",
    "print(\"The sum of {0} and {1} is {2}\".format(num1,num2,sum))\n",
    "print(\"The subtraction of {0} and {1} is {2}\".format(num1,num2,sub))\n",
    "print(\"The multiplication of {0} and {1} is {2}\".format(num1,num2,mul))\n",
    "print(\"The division of {0} and {1} is {2}\".format(num1,num2,div))"
   ]
  },
  {
   "cell_type": "markdown",
   "id": "b79e9a8e",
   "metadata": {},
   "source": [
    "### 3. Write a Python program to find the area of a triangle?"
   ]
  },
  {
   "cell_type": "code",
   "execution_count": 15,
   "id": "df1d9826",
   "metadata": {},
   "outputs": [
    {
     "name": "stdout",
     "output_type": "stream",
     "text": [
      "Enter height of the triangle: 50\n",
      "Enter base of the triangle: 10\n",
      "Area of triangle is 250.0\n"
     ]
    }
   ],
   "source": [
    "height = int(input(\"Enter height of the triangle: \"))\n",
    "base = int(input(\"Enter base of the triangle: \"))\n",
    "\n",
    "#Calculate Area of Trianle\n",
    "areaOftriangle = 0.5*height*base\n",
    "print(\"Area of triangle is {}\".format(areaOftriangle))"
   ]
  },
  {
   "cell_type": "markdown",
   "id": "b610d97c",
   "metadata": {},
   "source": [
    "### 4. Write a Python program to swap two variables?"
   ]
  },
  {
   "cell_type": "code",
   "execution_count": 16,
   "id": "a1392786",
   "metadata": {},
   "outputs": [
    {
     "name": "stdout",
     "output_type": "stream",
     "text": [
      "Enter value of x: 30\n",
      "Enter value of y: 40.0\n",
      "Value of x after swapping: 40.0\n",
      "Value of y after swapping: 30\n"
     ]
    }
   ],
   "source": [
    "x = input(\"Enter value of x: \")\n",
    "y = input(\"Enter value of y: \")\n",
    "\n",
    "#Swap the variables\n",
    "temp = x\n",
    "x = y\n",
    "y = temp\n",
    "\n",
    "print(\"Value of x after swapping: {}\".format(x))\n",
    "print(\"Value of y after swapping: {}\".format(y))"
   ]
  },
  {
   "cell_type": "markdown",
   "id": "dafba3ee",
   "metadata": {},
   "source": [
    "### 5. Write a Python program to generate a random number?"
   ]
  },
  {
   "cell_type": "code",
   "execution_count": 17,
   "id": "43d8d404",
   "metadata": {},
   "outputs": [],
   "source": [
    "import random"
   ]
  },
  {
   "cell_type": "code",
   "execution_count": 19,
   "id": "7c592949",
   "metadata": {},
   "outputs": [
    {
     "name": "stdout",
     "output_type": "stream",
     "text": [
      "528\n"
     ]
    }
   ],
   "source": [
    "print(random.randint(0,1000))"
   ]
  }
 ],
 "metadata": {
  "kernelspec": {
   "display_name": "Python 3 (ipykernel)",
   "language": "python",
   "name": "python3"
  },
  "language_info": {
   "codemirror_mode": {
    "name": "ipython",
    "version": 3
   },
   "file_extension": ".py",
   "mimetype": "text/x-python",
   "name": "python",
   "nbconvert_exporter": "python",
   "pygments_lexer": "ipython3",
   "version": "3.9.7"
  }
 },
 "nbformat": 4,
 "nbformat_minor": 5
}
