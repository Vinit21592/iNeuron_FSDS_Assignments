{
 "cells": [
  {
   "cell_type": "markdown",
   "id": "fceb08d7",
   "metadata": {},
   "source": [
    "### 1. Write a Python program to check if the given number is a Disarium Number?"
   ]
  },
  {
   "cell_type": "markdown",
   "id": "41428062",
   "metadata": {},
   "source": [
    "A number is said to be the Disarium number when the sum of its digit raised to the power of their respective positions becomes equal to the number itself."
   ]
  },
  {
   "cell_type": "code",
   "execution_count": 44,
   "id": "4ce15b6b",
   "metadata": {},
   "outputs": [],
   "source": [
    "def checkDisariumNumber():\n",
    "    in_num = input('Enter a Number: ')\n",
    "    sum = 0\n",
    "    for item in range(len(in_num)):\n",
    "        sum = sum + int(in_num[item])**(item+1)\n",
    "    if sum == int(in_num):\n",
    "        print(f'{in_num} is a Disarium Number')\n",
    "    else:\n",
    "        print(f'{in_num} is a Not Disarium Number')"
   ]
  },
  {
   "cell_type": "code",
   "execution_count": 46,
   "id": "ea5f363d",
   "metadata": {},
   "outputs": [
    {
     "name": "stdout",
     "output_type": "stream",
     "text": [
      "Enter a Number: 89\n",
      "89 is a Disarium Number\n"
     ]
    }
   ],
   "source": [
    "checkDisariumNumber()"
   ]
  },
  {
   "cell_type": "code",
   "execution_count": 47,
   "id": "78597e05",
   "metadata": {},
   "outputs": [
    {
     "name": "stdout",
     "output_type": "stream",
     "text": [
      "Enter a Number: 159\n",
      "159 is a Not Disarium Number\n"
     ]
    }
   ],
   "source": [
    "checkDisariumNumber()"
   ]
  },
  {
   "cell_type": "markdown",
   "id": "8b8608d1",
   "metadata": {},
   "source": [
    "### 2. Write a Python program to print all disarium numbers between 1 to 100?"
   ]
  },
  {
   "cell_type": "code",
   "execution_count": 53,
   "id": "bc6f4476",
   "metadata": {},
   "outputs": [],
   "source": [
    "def printDisariumNumbers(start=0,end=100):\n",
    "    output_num = []\n",
    "    for number in range(start,end+1):\n",
    "        sum = 0\n",
    "        for item in range(len(str(number))):\n",
    "            sum = sum + int(str(number)[item])**(item+1)\n",
    "        if sum == number:\n",
    "            output_num.append(number)\n",
    "    return output_num"
   ]
  },
  {
   "cell_type": "code",
   "execution_count": 54,
   "id": "d2b6965d",
   "metadata": {},
   "outputs": [
    {
     "data": {
      "text/plain": [
       "[0, 1, 2, 3, 4, 5, 6, 7, 8, 9, 89]"
      ]
     },
     "execution_count": 54,
     "metadata": {},
     "output_type": "execute_result"
    }
   ],
   "source": [
    "printDisariumNumbers()"
   ]
  },
  {
   "cell_type": "markdown",
   "id": "3657d4ed",
   "metadata": {},
   "source": [
    "### 3. Write a Python program to check if the given number is Happy Number?"
   ]
  },
  {
   "cell_type": "code",
   "execution_count": 55,
   "id": "08217d4d",
   "metadata": {},
   "outputs": [],
   "source": [
    "def checkHappyNumber():\n",
    "    in_num = input('Enter a Number: ')\n",
    "    in_num_duplicate = in_num\n",
    "    trackNumber = set()   \n",
    "    while True:\n",
    "        if in_num != '1' and str(in_num) not in trackNumber:\n",
    "            trackNumber.add(in_num)\n",
    "            sum = 0\n",
    "            for ele in range(len((in_num))):\n",
    "                sum = sum + int(in_num[ele])**2\n",
    "            in_num = str(sum)\n",
    "        elif str(in_num) in trackNumber:\n",
    "            print(f'{in_num_duplicate} is not a Happy Number')\n",
    "            break\n",
    "        else:\n",
    "            print(f'{in_num_duplicate} is a Happy Number')\n",
    "            break"
   ]
  },
  {
   "cell_type": "code",
   "execution_count": 56,
   "id": "d8a2f249",
   "metadata": {},
   "outputs": [
    {
     "name": "stdout",
     "output_type": "stream",
     "text": [
      "Enter a Number: 12\n",
      "12 is not a Happy Number\n"
     ]
    }
   ],
   "source": [
    "checkHappyNumber()"
   ]
  },
  {
   "cell_type": "code",
   "execution_count": 58,
   "id": "a9cc13fa",
   "metadata": {},
   "outputs": [
    {
     "name": "stdout",
     "output_type": "stream",
     "text": [
      "Enter a Number: 19\n",
      "19 is a Happy Number\n"
     ]
    }
   ],
   "source": [
    "checkHappyNumber()"
   ]
  },
  {
   "cell_type": "markdown",
   "id": "5f725b8c",
   "metadata": {},
   "source": [
    "### 4. Write a Python program to print all happy numbers between 1 and 100?"
   ]
  },
  {
   "cell_type": "code",
   "execution_count": 59,
   "id": "4c72eba2",
   "metadata": {},
   "outputs": [],
   "source": [
    "def checkHappyNumber(start=0,end=100):\n",
    "    happyNumbersList = []\n",
    "    for in_num in range(start,end+1):\n",
    "        in_num = str(in_num)\n",
    "        inum_holder = in_num\n",
    "        trackNumber = set()   \n",
    "        while True:\n",
    "            if in_num != '1' and str(in_num) not in trackNumber:\n",
    "                trackNumber.add(in_num)\n",
    "                sum = 0\n",
    "                for ele in range(len((in_num))):\n",
    "                    sum = sum + int(in_num[ele])**2\n",
    "                in_num = str(sum)\n",
    "            elif str(in_num) in trackNumber:\n",
    "                break\n",
    "            else:\n",
    "                happyNumbersList.append(int(inum_holder))\n",
    "                break\n",
    "    print(f'The Happy Numbers between {start} and {end} are {happyNumbersList}')"
   ]
  },
  {
   "cell_type": "code",
   "execution_count": 60,
   "id": "486dacb6",
   "metadata": {},
   "outputs": [
    {
     "name": "stdout",
     "output_type": "stream",
     "text": [
      "The Happy Numbers between 0 and 100 are [1, 7, 10, 13, 19, 23, 28, 31, 32, 44, 49, 68, 70, 79, 82, 86, 91, 94, 97, 100]\n"
     ]
    }
   ],
   "source": [
    "checkHappyNumber()"
   ]
  },
  {
   "cell_type": "markdown",
   "id": "46bbcd1c",
   "metadata": {},
   "source": [
    "### 5. Write a Python program to determine whether the given number is a Harshad Number?"
   ]
  },
  {
   "cell_type": "code",
   "execution_count": 68,
   "id": "31432796",
   "metadata": {},
   "outputs": [],
   "source": [
    "def checkHarshadNumber():\n",
    "    in_num = input('Enter a Number: ')\n",
    "    sum = 0\n",
    "    for item in range(len(in_num)):\n",
    "        sum = sum + int(in_num[item])\n",
    "    if int(in_num)%sum == 0:\n",
    "        print(f'{in_num} is a Harshad Number')\n",
    "    else:\n",
    "        print(f'{in_num} is Not a Harshad Number')"
   ]
  },
  {
   "cell_type": "code",
   "execution_count": 69,
   "id": "8d04e697",
   "metadata": {},
   "outputs": [
    {
     "name": "stdout",
     "output_type": "stream",
     "text": [
      "Enter a Number: 21\n",
      "21 is a Harshad Number\n"
     ]
    }
   ],
   "source": [
    "checkHarshadNumber()"
   ]
  },
  {
   "cell_type": "code",
   "execution_count": 71,
   "id": "3dbbba4e",
   "metadata": {},
   "outputs": [
    {
     "name": "stdout",
     "output_type": "stream",
     "text": [
      "Enter a Number: 165\n",
      "165 is Not a Harshad Number\n"
     ]
    }
   ],
   "source": [
    "checkHarshadNumber()"
   ]
  },
  {
   "cell_type": "markdown",
   "id": "c11edf0c",
   "metadata": {},
   "source": [
    "### 6. Write a Python program to print all pronic numbers between 1 and 100?"
   ]
  },
  {
   "cell_type": "code",
   "execution_count": 85,
   "id": "a15f1c77",
   "metadata": {},
   "outputs": [],
   "source": [
    "def printPronicNumbers(start,end):\n",
    "    outputList = []\n",
    "    for ele in range(start,end):\n",
    "        outputList.append((ele)*(ele+1))\n",
    "    print(outputList)"
   ]
  },
  {
   "cell_type": "code",
   "execution_count": 87,
   "id": "15e1110e",
   "metadata": {},
   "outputs": [
    {
     "name": "stdout",
     "output_type": "stream",
     "text": [
      "[0, 2, 6, 12, 20, 30, 42, 56, 72, 90]\n"
     ]
    }
   ],
   "source": [
    "printPronicNumbers(0,10)"
   ]
  }
 ],
 "metadata": {
  "kernelspec": {
   "display_name": "Python 3 (ipykernel)",
   "language": "python",
   "name": "python3"
  },
  "language_info": {
   "codemirror_mode": {
    "name": "ipython",
    "version": 3
   },
   "file_extension": ".py",
   "mimetype": "text/x-python",
   "name": "python",
   "nbconvert_exporter": "python",
   "pygments_lexer": "ipython3",
   "version": "3.9.7"
  }
 },
 "nbformat": 4,
 "nbformat_minor": 5
}
